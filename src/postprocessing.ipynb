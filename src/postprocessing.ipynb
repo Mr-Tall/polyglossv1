{
 "cells": [
  {
   "cell_type": "code",
   "execution_count": 56,
   "metadata": {
    "collapsed": true,
    "ExecuteTime": {
     "end_time": "2024-02-09T21:04:22.550209Z",
     "start_time": "2024-02-09T21:04:22.508144Z"
    }
   },
   "outputs": [
    {
     "data": {
      "text/plain": "{'all': {'word_level': {'average_accuracy': 0.3946060299001475,\n   'accuracy': 0.3489583333333333},\n  'bleu': 0.2109008228043083,\n  'WER': 0.5682595954654777,\n  'morpheme_level': {'average_accuracy': 0.3395979139732669,\n   'accuracy': 0.2894356005788712},\n  'classes': {'stem': {'prec': 0.2125,\n    'rec': 0.19101123595505617,\n    'f1': 0.20118343195266272},\n   'gram': {'prec': 0.36519607843137253,\n    'rec': 0.35141509433962265,\n    'f1': 0.35817307692307687}},\n  'MER': 0.4915575596606354},\n 'gitx1241': {'word_level': {'average_accuracy': 0.3946060299001475,\n   'accuracy': 0.3489583333333333},\n  'bleu': 0.2109008228043083,\n  'WER': 0.5682595954654777,\n  'morpheme_level': {'average_accuracy': 0.3395979139732669,\n   'accuracy': 0.2894356005788712},\n  'classes': {'stem': {'prec': 0.2125,\n    'rec': 0.19101123595505617,\n    'f1': 0.20118343195266272},\n   'gram': {'prec': 0.36519607843137253,\n    'rec': 0.35141509433962265,\n    'f1': 0.35817307692307687}},\n  'MER': 0.4915575596606354}}"
     },
     "execution_count": 56,
     "metadata": {},
     "output_type": "execute_result"
    }
   ],
   "source": [
    "import pandas as pd\n",
    "from eval import strip_gloss_punctuation, eval_word_glosses, eval_morpheme_glosses\n",
    "from typing import List\n",
    "import re\n",
    "\n",
    "def clean_preds(preds):\n",
    "    corrected_preds = preds.replace('\\.$', '', regex=True)\n",
    "    corrected_preds = corrected_preds.replace('\\,', '', regex=True)\n",
    "    corrected_preds = corrected_preds.replace('»', '', regex=True)\n",
    "    corrected_preds = corrected_preds.replace('«', '', regex=True)\n",
    "    corrected_preds = corrected_preds.replace('\\\"', '', regex=True)\n",
    "    corrected_preds = corrected_preds.replace('\\. ', ' ', regex=True)\n",
    "    corrected_preds = corrected_preds.replace('\\.\\.+', '', regex=True)\n",
    "    corrected_preds = corrected_preds.replace('\\ +', ' ', regex=True)\n",
    "    return corrected_preds\n",
    "\n",
    "def _eval(preds: List[str], gold: List[str]):\n",
    "    preds = [strip_gloss_punctuation(pred) for pred in preds]\n",
    "    gold = [strip_gloss_punctuation(g) for g in gold]\n",
    "    pred_words = [str(pred).split() for pred in preds]\n",
    "    gold_words = [gloss.split() for gloss in gold]\n",
    "    # word_eval = eval_accuracy(pred_words, gold_words)\n",
    "\n",
    "    pred_morphemes = [re.split(r\"\\s|-\", str(pred)) for pred in preds]\n",
    "    gold_morphemes = [re.split(r\"\\s|-\", gloss) for gloss in gold]\n",
    "\n",
    "    eval_dict = {\n",
    "        **eval_word_glosses(\n",
    "            pred_words=pred_words, gold_words=gold_words\n",
    "        ),\n",
    "        **eval_morpheme_glosses(\n",
    "            pred_morphemes=pred_morphemes, gold_morphemes=gold_morphemes\n",
    "        ),\n",
    "    }\n",
    "    return eval_dict\n",
    "\n",
    "def postprocess(path, segmented: bool):\n",
    "    pred_df = pd.read_csv(path).fillna('')\n",
    "    pred_df = pred_df[pred_df['is_segmented'] == (\"yes\" if segmented else \"no\")]\n",
    "    pred_df['pred'] = clean_preds(pred_df['pred'])\n",
    "    pred_df['gold'] = clean_preds(pred_df['gold'])\n",
    "    pred_df.to_csv(path[:-4] + '.postprocessed.csv')\n",
    "    all_eval = {}\n",
    "    all_eval['all'] = _eval(pred_df['pred'], pred_df['gold'])\n",
    "\n",
    "    for lang in pred_df[\"glottocode\"].unique():\n",
    "        lang_df = pred_df[pred_df[\"glottocode\"] == lang]\n",
    "        all_eval[lang] = _eval(lang_df['pred'], lang_df['gold'])\n",
    "    return all_eval\n",
    "\n",
    "postprocess('../preds/git-byt5-translation-all-v2-patience_15-max_epochs_500/test_OOD-preds.csv', True)"
   ]
  },
  {
   "cell_type": "code",
   "execution_count": 25,
   "outputs": [],
   "source": [],
   "metadata": {
    "collapsed": false,
    "ExecuteTime": {
     "end_time": "2024-02-09T19:47:05.779469Z",
     "start_time": "2024-02-09T19:47:05.777242Z"
    }
   }
  },
  {
   "cell_type": "code",
   "execution_count": 26,
   "outputs": [],
   "source": [],
   "metadata": {
    "collapsed": false,
    "ExecuteTime": {
     "end_time": "2024-02-09T19:47:06.888249Z",
     "start_time": "2024-02-09T19:47:06.884182Z"
    }
   }
  },
  {
   "cell_type": "code",
   "execution_count": 28,
   "outputs": [
    {
     "data": {
      "text/plain": "{'word_level': {'average_accuracy': 0.7141752618726303,\n  'accuracy': 0.7022388059701492},\n 'bleu': 0.6296881437301636,\n 'WER': 0.28055459991712256,\n 'morpheme_level': {'average_accuracy': 0.7284273998003787,\n  'accuracy': 0.6980968858131488},\n 'classes': {'stem': {'prec': 0.68212927756654,\n   'rec': 0.6764705882352942,\n   'f1': 0.6792881484286255},\n  'gram': {'prec': 0.7353846153846154,\n   'rec': 0.7271805273833671,\n   'f1': 0.7312595614482408}},\n 'MER': 0.2163910526701597}"
     },
     "execution_count": 28,
     "metadata": {},
     "output_type": "execute_result"
    }
   ],
   "source": [],
   "metadata": {
    "collapsed": false,
    "ExecuteTime": {
     "end_time": "2024-02-09T19:50:14.056254Z",
     "start_time": "2024-02-09T19:50:13.969352Z"
    }
   }
  },
  {
   "cell_type": "code",
   "execution_count": null,
   "outputs": [],
   "source": [],
   "metadata": {
    "collapsed": false
   }
  }
 ],
 "metadata": {
  "kernelspec": {
   "display_name": "Python 3",
   "language": "python",
   "name": "python3"
  },
  "language_info": {
   "codemirror_mode": {
    "name": "ipython",
    "version": 2
   },
   "file_extension": ".py",
   "mimetype": "text/x-python",
   "name": "python",
   "nbconvert_exporter": "python",
   "pygments_lexer": "ipython2",
   "version": "2.7.6"
  }
 },
 "nbformat": 4,
 "nbformat_minor": 0
}
