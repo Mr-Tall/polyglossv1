{
 "cells": [
  {
   "cell_type": "code",
   "execution_count": 3,
   "metadata": {
    "collapsed": true,
    "ExecuteTime": {
     "end_time": "2024-02-12T21:39:47.965137Z",
     "start_time": "2024-02-12T21:39:47.669887Z"
    }
   },
   "outputs": [
    {
     "data": {
      "text/plain": "{'all': {'word_level': {'average_accuracy': 0.725442089982268,\n   'accuracy': 0.6690837178642056},\n  'bleu': 0.5207739472389221,\n  'WER': 0.30762286273663314,\n  'morpheme_level': {'average_accuracy': 0.7112711277923897,\n   'accuracy': 0.604480494399382},\n  'classes': {'stem': {'prec': 0.6197295147175815,\n    'rec': 0.6024748646558391,\n    'f1': 0.6109803921568627},\n   'gram': {'prec': 0.6275449101796408,\n    'rec': 0.6064814814814815,\n    'f1': 0.6168334314302532}},\n  'MER': 0.26671672160918153},\n 'gitx1241': {'word_level': {'average_accuracy': 0.24144700909406785,\n   'accuracy': 0.20572916666666666},\n  'bleu': 0.058711063116788864,\n  'WER': 1.108072928661164,\n  'morpheme_level': {'average_accuracy': 0.16549584764712444,\n   'accuracy': 0.12735166425470332},\n  'classes': {'stem': {'prec': 0.07722007722007722,\n    'rec': 0.0749063670411985,\n    'f1': 0.07604562737642585},\n   'gram': {'prec': 0.18037135278514588,\n    'rec': 0.16037735849056603,\n    'f1': 0.16978776529338324}},\n  'MER': 1.0927510034099295},\n 'lezg1247': {'word_level': {'average_accuracy': 0.6093240857079331,\n   'accuracy': 0.564179104477612},\n  'bleu': 0.44040924310684204,\n  'WER': 0.39708547821070506,\n  'morpheme_level': {'average_accuracy': 0.5581867406388559,\n   'accuracy': 0.47837370242214533},\n  'classes': {'stem': {'prec': 0.49297971918876754,\n    'rec': 0.4766214177978884,\n    'f1': 0.48466257668711654},\n   'gram': {'prec': 0.517467248908297,\n    'rec': 0.48073022312373226,\n    'f1': 0.498422712933754}},\n  'MER': 0.3362106875034312},\n 'natu1246': {'word_level': {'average_accuracy': 0.7543799293111465,\n   'accuracy': 0.7573131094257854},\n  'bleu': 0.6662652492523193,\n  'WER': 0.2716776188052246,\n  'morpheme_level': {'average_accuracy': 0.6591381344300725,\n   'accuracy': 0.6399276236429433},\n  'classes': {'stem': {'prec': 0.632088520055325,\n    'rec': 0.6036988110964333,\n    'f1': 0.6175675675675676},\n   'gram': {'prec': 0.6741071428571429,\n    'rec': 0.6703662597114317,\n    'f1': 0.6722314969393433}},\n  'MER': 0.24634386966090532},\n 'nyan1302': {'word_level': {'average_accuracy': 0.8210513609753155,\n   'accuracy': 0.826868495742668},\n  'bleu': 0.7410721778869629,\n  'WER': 0.1789486390246847,\n  'morpheme_level': {'average_accuracy': 0.8583174904942965,\n   'accuracy': 0.8535564853556485},\n  'classes': {'stem': {'prec': 0.8585858585858586,\n    'rec': 0.8509454949944383,\n    'f1': 0.8547486033519553},\n   'gram': {'prec': 0.8565891472868217,\n    'rec': 0.8565891472868217,\n    'f1': 0.8565891472868217}},\n  'MER': 0.13518694550063368}}"
     },
     "execution_count": 3,
     "metadata": {},
     "output_type": "execute_result"
    }
   ],
   "source": [
    "import pandas as pd\n",
    "from eval import strip_gloss_punctuation, eval_word_glosses, eval_morpheme_glosses\n",
    "from typing import List\n",
    "import re\n",
    "\n",
    "def clean_preds(preds):\n",
    "    corrected_preds = preds.replace('\\.$', '', regex=True)\n",
    "    corrected_preds = corrected_preds.replace('\\,', '', regex=True)\n",
    "    corrected_preds = corrected_preds.replace('»', '', regex=True)\n",
    "    corrected_preds = corrected_preds.replace('«', '', regex=True)\n",
    "    corrected_preds = corrected_preds.replace('\\\"', '', regex=True)\n",
    "    corrected_preds = corrected_preds.replace('\\. ', ' ', regex=True)\n",
    "    corrected_preds = corrected_preds.replace('\\.\\.+', '', regex=True)\n",
    "    corrected_preds = corrected_preds.replace('\\ +', ' ', regex=True)\n",
    "    return corrected_preds\n",
    "\n",
    "def _eval(preds: List[str], gold: List[str]):\n",
    "    preds = [strip_gloss_punctuation(pred) for pred in preds]\n",
    "    gold = [strip_gloss_punctuation(g) for g in gold]\n",
    "    pred_words = [str(pred).split() for pred in preds]\n",
    "    gold_words = [gloss.split() for gloss in gold]\n",
    "    # word_eval = eval_accuracy(pred_words, gold_words)\n",
    "\n",
    "    pred_morphemes = [re.split(r\"\\s|-\", str(pred)) for pred in preds]\n",
    "    gold_morphemes = [re.split(r\"\\s|-\", gloss) for gloss in gold]\n",
    "\n",
    "    eval_dict = {\n",
    "        **eval_word_glosses(\n",
    "            pred_words=pred_words, gold_words=gold_words\n",
    "        ),\n",
    "        **eval_morpheme_glosses(\n",
    "            pred_morphemes=pred_morphemes, gold_morphemes=gold_morphemes\n",
    "        ),\n",
    "    }\n",
    "    return eval_dict\n",
    "\n",
    "def postprocess(path, segmented: bool):\n",
    "    pred_df = pd.read_csv(path).fillna('')\n",
    "    pred_df = pred_df[pred_df['is_segmented'] == (\"yes\" if segmented else \"no\")]\n",
    "    pred_df['pred'] = clean_preds(pred_df['pred'])\n",
    "    pred_df['gold'] = clean_preds(pred_df['gold'])\n",
    "    pred_df.to_csv(path[:-4] + '.postprocessed.csv')\n",
    "    all_eval = {}\n",
    "    all_eval['all'] = _eval(pred_df['pred'], pred_df['gold'])\n",
    "\n",
    "    for lang in pred_df[\"glottocode\"].unique():\n",
    "        lang_df = pred_df[pred_df[\"glottocode\"] == lang]\n",
    "        all_eval[lang] = _eval(lang_df['pred'], lang_df['gold'])\n",
    "    return all_eval\n",
    "\n",
    "postprocess('../preds/2023glossingSTsubmissions/mt5_odin_punct_fix/test_OOD-preds.csv', True)"
   ]
  },
  {
   "cell_type": "code",
   "execution_count": 25,
   "outputs": [],
   "source": [],
   "metadata": {
    "collapsed": false,
    "ExecuteTime": {
     "end_time": "2024-02-09T19:47:05.779469Z",
     "start_time": "2024-02-09T19:47:05.777242Z"
    }
   }
  },
  {
   "cell_type": "code",
   "execution_count": 26,
   "outputs": [],
   "source": [],
   "metadata": {
    "collapsed": false,
    "ExecuteTime": {
     "end_time": "2024-02-09T19:47:06.888249Z",
     "start_time": "2024-02-09T19:47:06.884182Z"
    }
   }
  },
  {
   "cell_type": "code",
   "execution_count": 28,
   "outputs": [
    {
     "data": {
      "text/plain": "{'word_level': {'average_accuracy': 0.7141752618726303,\n  'accuracy': 0.7022388059701492},\n 'bleu': 0.6296881437301636,\n 'WER': 0.28055459991712256,\n 'morpheme_level': {'average_accuracy': 0.7284273998003787,\n  'accuracy': 0.6980968858131488},\n 'classes': {'stem': {'prec': 0.68212927756654,\n   'rec': 0.6764705882352942,\n   'f1': 0.6792881484286255},\n  'gram': {'prec': 0.7353846153846154,\n   'rec': 0.7271805273833671,\n   'f1': 0.7312595614482408}},\n 'MER': 0.2163910526701597}"
     },
     "execution_count": 28,
     "metadata": {},
     "output_type": "execute_result"
    }
   ],
   "source": [],
   "metadata": {
    "collapsed": false,
    "ExecuteTime": {
     "end_time": "2024-02-09T19:50:14.056254Z",
     "start_time": "2024-02-09T19:50:13.969352Z"
    }
   }
  },
  {
   "cell_type": "code",
   "execution_count": null,
   "outputs": [],
   "source": [],
   "metadata": {
    "collapsed": false
   }
  }
 ],
 "metadata": {
  "kernelspec": {
   "display_name": "Python 3",
   "language": "python",
   "name": "python3"
  },
  "language_info": {
   "codemirror_mode": {
    "name": "ipython",
    "version": 2
   },
   "file_extension": ".py",
   "mimetype": "text/x-python",
   "name": "python",
   "nbconvert_exporter": "python",
   "pygments_lexer": "ipython2",
   "version": "2.7.6"
  }
 },
 "nbformat": 4,
 "nbformat_minor": 0
}
