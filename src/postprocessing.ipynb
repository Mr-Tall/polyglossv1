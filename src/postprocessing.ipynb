{
 "cells": [
  {
   "cell_type": "code",
   "execution_count": 67,
   "metadata": {
    "collapsed": true,
    "ExecuteTime": {
     "end_time": "2024-02-09T21:52:07.603952Z",
     "start_time": "2024-02-09T21:52:05.088965Z"
    }
   },
   "outputs": [
    {
     "data": {
      "text/plain": "{'all': {'word_level': {'average_accuracy': 0.6866442591223938,\n   'accuracy': 0.7092985582374858},\n  'bleu': 0.4755599070183826,\n  'WER': 0.3126596440853715,\n  'morpheme_level': {'average_accuracy': 0.5237608294961661,\n   'accuracy': 0.46245691500146435},\n  'classes': {'stem': {'prec': 0.5174554512358689,\n    'rec': 0.49401821973438703,\n    'f1': 0.505465299094108},\n   'gram': {'prec': 0.5962991257108904,\n    'rec': 0.41187851782363977,\n    'f1': 0.4872212782189548}},\n  'MER': 0.38961197551427107},\n 'arap1274': {'word_level': {'average_accuracy': 0.6795463734912861,\n   'accuracy': 0.6988122975507188},\n  'bleu': 0.4268306322218423,\n  'WER': 0.3197404149014028,\n  'morpheme_level': {'average_accuracy': 0.510326921466861,\n   'accuracy': 0.43584559984837956},\n  'classes': {'stem': {'prec': 0.5048834355828221,\n    'rec': 0.4816011235955056,\n    'f1': 0.4929675332454774},\n   'gram': {'prec': 0.6351302460202605,\n    'rec': 0.3409399883472519,\n    'f1': 0.4437002401112094}},\n  'MER': 0.41106010827889083},\n 'dido1241': {'word_level': {'average_accuracy': 0.7432586861035312,\n   'accuracy': 0.7428571428571429},\n  'bleu': 0.5996370658759372,\n  'WER': 0.255243186555645,\n  'morpheme_level': {'average_accuracy': 0.5556845473269625,\n   'accuracy': 0.512023396880416},\n  'classes': {'stem': {'prec': 0.5319740500463392,\n    'rec': 0.5317276516905975,\n    'f1': 0.531850822330322},\n   'gram': {'prec': 0.5464149247021802,\n    'rec': 0.4947089947089947,\n    'f1': 0.5192780091850903}},\n  'MER': 0.24546770809114288},\n 'uspa1245': {'word_level': {'average_accuracy': 0.7016986611773353,\n   'accuracy': 0.7205821205821206},\n  'bleu': 0.5130877351940791,\n  'WER': 0.298301338822666,\n  'morpheme_level': {'average_accuracy': 0.6051393818573916,\n   'accuracy': 0.5724492712203487},\n  'classes': {'stem': {'prec': 0.6552706552706553,\n    'rec': 0.5558912386706949,\n    'f1': 0.6015037593984962},\n   'gram': {'prec': 0.6003325942350333,\n    'rec': 0.5873101952277657,\n    'f1': 0.59375}},\n  'MER': 0.32518848976194964}}"
     },
     "execution_count": 67,
     "metadata": {},
     "output_type": "execute_result"
    }
   ],
   "source": [
    "import pandas as pd\n",
    "from eval import strip_gloss_punctuation, eval_word_glosses, eval_morpheme_glosses\n",
    "from typing import List\n",
    "import re\n",
    "\n",
    "def clean_preds(preds):\n",
    "    corrected_preds = preds.replace('\\.$', '', regex=True)\n",
    "    corrected_preds = corrected_preds.replace('\\,', '', regex=True)\n",
    "    corrected_preds = corrected_preds.replace('»', '', regex=True)\n",
    "    corrected_preds = corrected_preds.replace('«', '', regex=True)\n",
    "    corrected_preds = corrected_preds.replace('\\\"', '', regex=True)\n",
    "    corrected_preds = corrected_preds.replace('\\. ', ' ', regex=True)\n",
    "    corrected_preds = corrected_preds.replace('\\.\\.+', '', regex=True)\n",
    "    corrected_preds = corrected_preds.replace('\\ +', ' ', regex=True)\n",
    "    return corrected_preds\n",
    "\n",
    "def _eval(preds: List[str], gold: List[str]):\n",
    "    preds = [strip_gloss_punctuation(pred) for pred in preds]\n",
    "    gold = [strip_gloss_punctuation(g) for g in gold]\n",
    "    pred_words = [str(pred).split() for pred in preds]\n",
    "    gold_words = [gloss.split() for gloss in gold]\n",
    "    # word_eval = eval_accuracy(pred_words, gold_words)\n",
    "\n",
    "    pred_morphemes = [re.split(r\"\\s|-\", str(pred)) for pred in preds]\n",
    "    gold_morphemes = [re.split(r\"\\s|-\", gloss) for gloss in gold]\n",
    "\n",
    "    eval_dict = {\n",
    "        **eval_word_glosses(\n",
    "            pred_words=pred_words, gold_words=gold_words\n",
    "        ),\n",
    "        **eval_morpheme_glosses(\n",
    "            pred_morphemes=pred_morphemes, gold_morphemes=gold_morphemes\n",
    "        ),\n",
    "    }\n",
    "    return eval_dict\n",
    "\n",
    "def postprocess(path, segmented: bool):\n",
    "    pred_df = pd.read_csv(path).fillna('')\n",
    "    pred_df = pred_df[pred_df['is_segmented'] == (\"yes\" if segmented else \"no\")]\n",
    "    pred_df['pred'] = clean_preds(pred_df['pred'])\n",
    "    pred_df['gold'] = clean_preds(pred_df['gold'])\n",
    "    pred_df.to_csv(path[:-4] + '.postprocessed.csv')\n",
    "    all_eval = {}\n",
    "    all_eval['all'] = _eval(pred_df['pred'], pred_df['gold'])\n",
    "\n",
    "    for lang in pred_df[\"glottocode\"].unique():\n",
    "        lang_df = pred_df[pred_df[\"glottocode\"] == lang]\n",
    "        all_eval[lang] = _eval(lang_df['pred'], lang_df['gold'])\n",
    "    return all_eval\n",
    "\n",
    "postprocess('../preds/2023glossingSTsubmissions/BASELINE/test_ID-preds.csv', False)"
   ]
  },
  {
   "cell_type": "code",
   "execution_count": 25,
   "outputs": [],
   "source": [],
   "metadata": {
    "collapsed": false,
    "ExecuteTime": {
     "end_time": "2024-02-09T19:47:05.779469Z",
     "start_time": "2024-02-09T19:47:05.777242Z"
    }
   }
  },
  {
   "cell_type": "code",
   "execution_count": 26,
   "outputs": [],
   "source": [],
   "metadata": {
    "collapsed": false,
    "ExecuteTime": {
     "end_time": "2024-02-09T19:47:06.888249Z",
     "start_time": "2024-02-09T19:47:06.884182Z"
    }
   }
  },
  {
   "cell_type": "code",
   "execution_count": 28,
   "outputs": [
    {
     "data": {
      "text/plain": "{'word_level': {'average_accuracy': 0.7141752618726303,\n  'accuracy': 0.7022388059701492},\n 'bleu': 0.6296881437301636,\n 'WER': 0.28055459991712256,\n 'morpheme_level': {'average_accuracy': 0.7284273998003787,\n  'accuracy': 0.6980968858131488},\n 'classes': {'stem': {'prec': 0.68212927756654,\n   'rec': 0.6764705882352942,\n   'f1': 0.6792881484286255},\n  'gram': {'prec': 0.7353846153846154,\n   'rec': 0.7271805273833671,\n   'f1': 0.7312595614482408}},\n 'MER': 0.2163910526701597}"
     },
     "execution_count": 28,
     "metadata": {},
     "output_type": "execute_result"
    }
   ],
   "source": [],
   "metadata": {
    "collapsed": false,
    "ExecuteTime": {
     "end_time": "2024-02-09T19:50:14.056254Z",
     "start_time": "2024-02-09T19:50:13.969352Z"
    }
   }
  },
  {
   "cell_type": "code",
   "execution_count": null,
   "outputs": [],
   "source": [],
   "metadata": {
    "collapsed": false
   }
  }
 ],
 "metadata": {
  "kernelspec": {
   "display_name": "Python 3",
   "language": "python",
   "name": "python3"
  },
  "language_info": {
   "codemirror_mode": {
    "name": "ipython",
    "version": 2
   },
   "file_extension": ".py",
   "mimetype": "text/x-python",
   "name": "python",
   "nbconvert_exporter": "python",
   "pygments_lexer": "ipython2",
   "version": "2.7.6"
  }
 },
 "nbformat": 4,
 "nbformat_minor": 0
}
