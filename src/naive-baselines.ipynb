{
 "cells": [
  {
   "cell_type": "code",
   "execution_count": 2,
   "metadata": {
    "collapsed": true,
    "ExecuteTime": {
     "end_time": "2024-02-02T00:26:31.678222Z",
     "start_time": "2024-02-02T00:26:30.115343Z"
    }
   },
   "outputs": [],
   "source": [
    "import datasets\n",
    "dataset = datasets.load_dataset('lecslab/glosslm-split')\n",
    "dataset = dataset.filter(lambda x: x[\"transcription\"] is not None and x[\"glosses\"] is not None)"
   ]
  },
  {
   "cell_type": "code",
   "execution_count": 12,
   "outputs": [],
   "source": [
    "from collections import defaultdict\n",
    "import re\n",
    "import random\n",
    "import pandas as pd\n",
    "from eval import strip_gloss_punctuation\n",
    "\n",
    "# Segmented\n",
    "# For each language, learn the conditional distribution of morphemes -> glosses\n",
    "\n",
    "all_train = datasets.concatenate_datasets([dataset['train'], dataset['train_OOD']])\n",
    "all_train = all_train.filter(lambda row: row[\"is_segmented\"] == \"yes\")\n",
    "all_test = datasets.concatenate_datasets([dataset['test_ID'], dataset['test_OOD']])\n",
    "all_test = all_test.filter(lambda row: row[\"is_segmented\"] == \"yes\")\n",
    "\n",
    "def gloss_with_top_gloss(gloss_dict):\n",
    "    return max(gloss_dict, key=gloss_dict.get)\n",
    "\n",
    "def gloss_with_random_gloss(gloss_dict):\n",
    "    return random.choice(list(gloss_dict.keys()))\n",
    "\n",
    "\n",
    "def make_predictions(glottocode, method):\n",
    "    select_gloss = {'top': gloss_with_top_gloss, 'random': gloss_with_random_gloss}[method]\n",
    "\n",
    "    train_data = all_train.filter(lambda row: row['glottocode'] == glottocode)\n",
    "    test_data = all_test.filter(lambda row: row['glottocode'] == glottocode)\n",
    "\n",
    "    morpheme_glosses = defaultdict(lambda: defaultdict(lambda: 0))\n",
    "    for row in train_data:\n",
    "        for word, glossed_word in zip(strip_gloss_punctuation(row['transcription']).split(),\n",
    "                                      strip_gloss_punctuation(row['glosses']).split()):\n",
    "            for morpheme, gloss in zip(re.split(r\"\\s|-\", word), re.split(r\"\\s|-\", glossed_word)):\n",
    "                morpheme_glosses[morpheme.lower()][gloss] += 1\n",
    "\n",
    "\n",
    "    preds = []\n",
    "    for row in test_data:\n",
    "        line_predictions = []\n",
    "        for word in strip_gloss_punctuation(row['transcription']).split():\n",
    "            word_predictions = []\n",
    "            for morpheme in re.split(r\"\\s|-\", word):\n",
    "                if morpheme not in morpheme_glosses:\n",
    "                    word_predictions.append(\"???\")\n",
    "                else:\n",
    "                    word_predictions.append(select_gloss(morpheme_glosses[morpheme.lower()]))\n",
    "            line_predictions.append('-'.join(word_predictions))\n",
    "        preds.append(' '.join(line_predictions))\n",
    "\n",
    "    gold = [strip_gloss_punctuation(g) for g in test_data[\"glosses\"]]\n",
    "\n",
    "    return pd.DataFrame({\n",
    "        \"id\": test_data[\"id\"],\n",
    "        \"glottocode\": test_data[\"glottocode\"],\n",
    "        \"is_segmented\": test_data[\"is_segmented\"],\n",
    "        \"pred\": preds,\n",
    "        \"gold\": gold,\n",
    "    })\n",
    "\n",
    "\n",
    "splits = {'ID': ['arap1274', 'dido1241', 'uspa1245'],\n",
    "          'OOD': ['gitx1241', 'lezg1247', 'natu1246', 'nyan1302' ]}\n",
    "for method in ['top', 'random']:\n",
    "    for split in ['ID', 'OOD']:\n",
    "        all_preds = []\n",
    "        for lang in splits[split]:\n",
    "            all_preds.append(make_predictions(lang, method))\n",
    "\n",
    "        combined = pd.concat(all_preds)\n",
    "        combined.to_csv(f'../preds/naive-{method}/test_{split}-preds.csv', index=False)"
   ],
   "metadata": {
    "collapsed": false,
    "ExecuteTime": {
     "end_time": "2024-02-02T00:54:55.265348Z",
     "start_time": "2024-02-02T00:54:47.359514Z"
    }
   }
  },
  {
   "cell_type": "code",
   "execution_count": 9,
   "outputs": [
    {
     "data": {
      "text/plain": "{'transcription': 'ɑʑ-ɑd',\n 'glosses': 'front-POSS.2SG.INE/ILL',\n 'translation': 'in front of you',\n 'glottocode': 'udmu1245',\n 'id': 'uratyp_124',\n 'source': 'uratyp',\n 'metalang_glottocode': 'stan1293',\n 'is_segmented': 'yes',\n 'language': 'Udmurt',\n 'metalang': 'English'}"
     },
     "execution_count": 9,
     "metadata": {},
     "output_type": "execute_result"
    }
   ],
   "source": [
    "dataset['train'][100]"
   ],
   "metadata": {
    "collapsed": false,
    "ExecuteTime": {
     "end_time": "2024-02-01T23:52:48.043945Z",
     "start_time": "2024-02-01T23:52:48.041076Z"
    }
   }
  },
  {
   "cell_type": "code",
   "execution_count": null,
   "outputs": [],
   "source": [],
   "metadata": {
    "collapsed": false
   }
  }
 ],
 "metadata": {
  "kernelspec": {
   "display_name": "Python 3",
   "language": "python",
   "name": "python3"
  },
  "language_info": {
   "codemirror_mode": {
    "name": "ipython",
    "version": 2
   },
   "file_extension": ".py",
   "mimetype": "text/x-python",
   "name": "python",
   "nbconvert_exporter": "python",
   "pygments_lexer": "ipython2",
   "version": "2.7.6"
  }
 },
 "nbformat": 4,
 "nbformat_minor": 0
}
