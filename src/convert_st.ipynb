{
 "cells": [
  {
   "cell_type": "code",
   "execution_count": 1,
   "metadata": {
    "collapsed": true,
    "ExecuteTime": {
     "end_time": "2024-02-08T06:02:11.278130Z",
     "start_time": "2024-02-08T06:02:08.462464Z"
    }
   },
   "outputs": [
    {
     "data": {
      "text/plain": "4892"
     },
     "execution_count": 1,
     "metadata": {},
     "output_type": "execute_result"
    }
   ],
   "source": [
    "from eval import strip_gloss_punctuation\n",
    "def read_st_file(path):\n",
    "    all_glosses = []\n",
    "\n",
    "    with open(path, 'r') as infile:\n",
    "        for line in infile:\n",
    "            line_prefix = line[:2]\n",
    "            if line_prefix == '\\\\g':\n",
    "                preds = line[3:].strip()\n",
    "                preds = strip_gloss_punctuation(preds)\n",
    "                all_glosses.append(preds)\n",
    "    return all_glosses\n",
    "\n",
    "len(read_st_file('../preds/2023glossingSTsubmissions/SigMoreFun_2/arp-test-track2-covered.txt'))"
   ]
  },
  {
   "cell_type": "code",
   "execution_count": 2,
   "outputs": [],
   "source": [
    "import datasets\n",
    "dataset = datasets.load_dataset('lecslab/glosslm-split')"
   ],
   "metadata": {
    "collapsed": false,
    "ExecuteTime": {
     "end_time": "2024-02-08T06:02:13.022099Z",
     "start_time": "2024-02-08T06:02:11.096879Z"
    }
   }
  },
  {
   "cell_type": "code",
   "execution_count": 4,
   "outputs": [],
   "source": [
    "import pandas as pd\n",
    "import os\n",
    "\n",
    "iso_to_glotto = {\n",
    "    'arp': 'arap1274',\n",
    "    \"git\": \"gitx1241\",\n",
    "    \"lez\": \"lezg1247\",\n",
    "    \"ntu\": \"natu1246\",\n",
    "    \"nyb\": \"nyan1302\",\n",
    "    \"ddo\": \"dido1241\",\n",
    "    \"usp\": \"uspa1245\",\n",
    "}\n",
    "\n",
    "def create_df(preds, isocode, segmented):\n",
    "    assert isocode in iso_to_glotto\n",
    "    glottocode = iso_to_glotto[isocode]\n",
    "    id_or_ood = \"ID\" if glottocode in [\"arap1274\", \"dido1241\", \"uspa1245\"] else \"OOD\"\n",
    "    gold = dataset[f'test_{id_or_ood}'].filter(lambda row: row['glottocode'] == glottocode and row['is_segmented'] == segmented)\n",
    "\n",
    "    assert len(gold) == len(preds), f\"Length mismatch: {len(gold)} expected, {len(preds)} observed\"\n",
    "\n",
    "    gold_glosses = [strip_gloss_punctuation(g) for g in gold[\"glosses\"]]\n",
    "    return pd.DataFrame({\n",
    "        \"id\": gold[\"id\"],\n",
    "        \"glottocode\": gold[\"glottocode\"],\n",
    "        \"is_segmented\": gold[\"is_segmented\"],\n",
    "        \"pred\": preds,\n",
    "        \"gold\": gold_glosses,\n",
    "    }), id_or_ood\n",
    "\n",
    "def process_folder(dirpath):\n",
    "    data = {}\n",
    "\n",
    "    for file in os.listdir(dirpath):\n",
    "        if not file.endswith('txt'):\n",
    "            continue\n",
    "        filename = os.fsdecode(file)\n",
    "        path = os.path.join(dirpath, filename)\n",
    "        comps = filename.split(\"-\")\n",
    "        preds = read_st_file(path)\n",
    "        df, id_or_ood = create_df(preds, comps[0], 'yes' if comps[2] == 'track2' else 'no')\n",
    "        if comps[0] in data:\n",
    "            data[comps[0]] = pd.concat([data[comps[0]], df])\n",
    "        else:\n",
    "            data[comps[0]] = df\n",
    "\n",
    "    id = pd.concat([data['arp'], data['ddo'], data['usp']])\n",
    "    id.to_csv(os.path.join(dirpath, 'test_ID-preds.csv'))\n",
    "    ood = pd.concat([data['git'], data['lez'], data['ntu'], data['nyb']])\n",
    "    ood.to_csv(os.path.join(dirpath, 'test_OOD-preds.csv'))\n",
    "\n",
    "process_folder('../preds/shu-crf')\n"
   ],
   "metadata": {
    "collapsed": false,
    "ExecuteTime": {
     "end_time": "2024-02-08T06:03:27.958376Z",
     "start_time": "2024-02-08T06:03:27.832217Z"
    }
   }
  },
  {
   "cell_type": "code",
   "execution_count": 8,
   "outputs": [
    {
     "ename": "TypeError",
     "evalue": "'<' not supported between instances of 'NoneType' and 'str'",
     "output_type": "error",
     "traceback": [
      "\u001B[0;31m---------------------------------------------------------------------------\u001B[0m",
      "\u001B[0;31mTypeError\u001B[0m                                 Traceback (most recent call last)",
      "Cell \u001B[0;32mIn[8], line 1\u001B[0m\n\u001B[0;32m----> 1\u001B[0m \u001B[38;5;28;43msorted\u001B[39;49m\u001B[43m(\u001B[49m\u001B[38;5;28;43mlist\u001B[39;49m\u001B[43m(\u001B[49m\u001B[38;5;28;43mset\u001B[39;49m\u001B[43m(\u001B[49m\u001B[43mdataset\u001B[49m\u001B[43m[\u001B[49m\u001B[38;5;124;43m'\u001B[39;49m\u001B[38;5;124;43mtrain\u001B[39;49m\u001B[38;5;124;43m'\u001B[39;49m\u001B[43m]\u001B[49m\u001B[43m[\u001B[49m\u001B[38;5;124;43m'\u001B[39;49m\u001B[38;5;124;43mglottocode\u001B[39;49m\u001B[38;5;124;43m'\u001B[39;49m\u001B[43m]\u001B[49m\u001B[43m)\u001B[49m\u001B[43m)\u001B[49m\u001B[43m)\u001B[49m\n",
      "\u001B[0;31mTypeError\u001B[0m: '<' not supported between instances of 'NoneType' and 'str'"
     ]
    }
   ],
   "source": [
    "dataset[f'test_{id_or_ood}'].filter(lambda row: row['glottocode'] == glottocode and row['is_segmented'] == segmented)"
   ],
   "metadata": {
    "collapsed": false,
    "ExecuteTime": {
     "end_time": "2024-02-06T17:05:46.086877Z",
     "start_time": "2024-02-06T17:05:46.065392Z"
    }
   }
  },
  {
   "cell_type": "code",
   "execution_count": null,
   "outputs": [],
   "source": [],
   "metadata": {
    "collapsed": false
   }
  }
 ],
 "metadata": {
  "kernelspec": {
   "display_name": "Python 3",
   "language": "python",
   "name": "python3"
  },
  "language_info": {
   "codemirror_mode": {
    "name": "ipython",
    "version": 2
   },
   "file_extension": ".py",
   "mimetype": "text/x-python",
   "name": "python",
   "nbconvert_exporter": "python",
   "pygments_lexer": "ipython2",
   "version": "2.7.6"
  }
 },
 "nbformat": 4,
 "nbformat_minor": 0
}
