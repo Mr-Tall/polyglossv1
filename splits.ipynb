{
 "cells": [
  {
   "cell_type": "code",
   "execution_count": 67,
   "id": "ef67b8f8-6e6c-4b39-bce0-3c9c499af23e",
   "metadata": {
    "tags": []
   },
   "outputs": [
    {
     "data": {
      "text/html": [
       "<div>\n",
       "<style scoped>\n",
       "    .dataframe tbody tr th:only-of-type {\n",
       "        vertical-align: middle;\n",
       "    }\n",
       "\n",
       "    .dataframe tbody tr th {\n",
       "        vertical-align: top;\n",
       "    }\n",
       "\n",
       "    .dataframe thead th {\n",
       "        text-align: right;\n",
       "    }\n",
       "</style>\n",
       "<table border=\"1\" class=\"dataframe\">\n",
       "  <thead>\n",
       "    <tr style=\"text-align: right;\">\n",
       "      <th></th>\n",
       "      <th>ID</th>\n",
       "      <th>glottocode</th>\n",
       "      <th>transcription</th>\n",
       "      <th>glosses</th>\n",
       "      <th>translation</th>\n",
       "      <th>metalang_glottocode</th>\n",
       "      <th>is_segmented</th>\n",
       "      <th>source</th>\n",
       "    </tr>\n",
       "  </thead>\n",
       "  <tbody>\n",
       "    <tr>\n",
       "      <th>0</th>\n",
       "      <td>st_arap1274_0</td>\n",
       "      <td>arap1274</td>\n",
       "      <td>heebe</td>\n",
       "      <td>hello.friend</td>\n",
       "      <td>hello friend .</td>\n",
       "      <td>stan1293</td>\n",
       "      <td>yes</td>\n",
       "      <td>sigmorphon_st</td>\n",
       "    </tr>\n",
       "    <tr>\n",
       "      <th>1</th>\n",
       "      <td>st_arap1274_0</td>\n",
       "      <td>arap1274</td>\n",
       "      <td>heebe</td>\n",
       "      <td>hello.friend</td>\n",
       "      <td>hello friend .</td>\n",
       "      <td>stan1293</td>\n",
       "      <td>no</td>\n",
       "      <td>sigmorphon_st</td>\n",
       "    </tr>\n",
       "    <tr>\n",
       "      <th>2</th>\n",
       "      <td>st_arap1274_1</td>\n",
       "      <td>arap1274</td>\n",
       "      <td>hee</td>\n",
       "      <td>yes</td>\n",
       "      <td>yes/hello .</td>\n",
       "      <td>stan1293</td>\n",
       "      <td>yes</td>\n",
       "      <td>sigmorphon_st</td>\n",
       "    </tr>\n",
       "    <tr>\n",
       "      <th>3</th>\n",
       "      <td>st_arap1274_1</td>\n",
       "      <td>arap1274</td>\n",
       "      <td>hee</td>\n",
       "      <td>yes</td>\n",
       "      <td>yes/hello .</td>\n",
       "      <td>stan1293</td>\n",
       "      <td>no</td>\n",
       "      <td>sigmorphon_st</td>\n",
       "    </tr>\n",
       "    <tr>\n",
       "      <th>4</th>\n",
       "      <td>st_arap1274_2</td>\n",
       "      <td>arap1274</td>\n",
       "      <td>nooxeihi' nih-'owoh-cee-ceneeni-n</td>\n",
       "      <td>maybe PAST-enjoy-REDUP-sing.at.Sun.Dance-2S</td>\n",
       "      <td>Maybe you enjoyed singing songs at the Sun Dan...</td>\n",
       "      <td>stan1293</td>\n",
       "      <td>yes</td>\n",
       "      <td>sigmorphon_st</td>\n",
       "    </tr>\n",
       "    <tr>\n",
       "      <th>...</th>\n",
       "      <td>...</td>\n",
       "      <td>...</td>\n",
       "      <td>...</td>\n",
       "      <td>...</td>\n",
       "      <td>...</td>\n",
       "      <td>...</td>\n",
       "      <td>...</td>\n",
       "      <td>...</td>\n",
       "    </tr>\n",
       "    <tr>\n",
       "      <th>451402</th>\n",
       "      <td>langsci369-a0628860cd</td>\n",
       "      <td></td>\n",
       "      <td>Nu şia ajutat pe nimeni dintre ai săi .</td>\n",
       "      <td>NEG CL.3SG.DAT-has helped LOC=DOM nobody from ...</td>\n",
       "      <td>Intended: `He hasn't helped anybody of his.' *...</td>\n",
       "      <td>stan1293</td>\n",
       "      <td>no</td>\n",
       "      <td>imtvault</td>\n",
       "    </tr>\n",
       "    <tr>\n",
       "      <th>451403</th>\n",
       "      <td>langsci369-d018caeb9c</td>\n",
       "      <td></td>\n",
       "      <td>Şii/*mii(l) ajută pe prieteni .</td>\n",
       "      <td>CL.3SG.REFL.DAT/1SG.DAT-CL.3M.SG.ACC help.3SG ...</td>\n",
       "      <td>Intended: `He is helping his own/my friend.</td>\n",
       "      <td>stan1293</td>\n",
       "      <td>no</td>\n",
       "      <td>imtvault</td>\n",
       "    </tr>\n",
       "    <tr>\n",
       "      <th>451404</th>\n",
       "      <td>langsci369-d9f31a29fa</td>\n",
       "      <td></td>\n",
       "      <td>Pe prietenii , Ion şiii ajută .</td>\n",
       "      <td>LOC=DOM friends, Ion CL.DAT.3SG.REFL-CL.3M.PL....</td>\n",
       "      <td>His own friends, Ion helps them.</td>\n",
       "      <td>stan1293</td>\n",
       "      <td>no</td>\n",
       "      <td>imtvault</td>\n",
       "    </tr>\n",
       "    <tr>\n",
       "      <th>451405</th>\n",
       "      <td>langsci369-0687fce7d6</td>\n",
       "      <td></td>\n",
       "      <td>Nu şiia trimis pe nimeni*i în ajutori .</td>\n",
       "      <td>NEG CL.3SG.REFL.DAT-has sent LOC=DOM nobody in...</td>\n",
       "      <td>Lit. `He hasn't sent anybody to/as his own aid.</td>\n",
       "      <td>stan1293</td>\n",
       "      <td>no</td>\n",
       "      <td>imtvault</td>\n",
       "    </tr>\n",
       "    <tr>\n",
       "      <th>451406</th>\n",
       "      <td>langsci369-b7ec967e8b</td>\n",
       "      <td></td>\n",
       "      <td>Ce que Jean a de plus précieux , c'est luimême</td>\n",
       "      <td>this that Jean has di more valuable it.is himself</td>\n",
       "      <td>The most valuable thing Jean has is himself</td>\n",
       "      <td>stan1293</td>\n",
       "      <td>no</td>\n",
       "      <td>imtvault</td>\n",
       "    </tr>\n",
       "  </tbody>\n",
       "</table>\n",
       "<p>451407 rows × 8 columns</p>\n",
       "</div>"
      ],
      "text/plain": [
       "                           ID glottocode   \n",
       "0               st_arap1274_0   arap1274  \\\n",
       "1               st_arap1274_0   arap1274   \n",
       "2               st_arap1274_1   arap1274   \n",
       "3               st_arap1274_1   arap1274   \n",
       "4               st_arap1274_2   arap1274   \n",
       "...                       ...        ...   \n",
       "451402  langsci369-a0628860cd              \n",
       "451403  langsci369-d018caeb9c              \n",
       "451404  langsci369-d9f31a29fa              \n",
       "451405  langsci369-0687fce7d6              \n",
       "451406  langsci369-b7ec967e8b              \n",
       "\n",
       "                                         transcription   \n",
       "0                                                heebe  \\\n",
       "1                                                heebe   \n",
       "2                                                  hee   \n",
       "3                                                  hee   \n",
       "4                    nooxeihi' nih-'owoh-cee-ceneeni-n   \n",
       "...                                                ...   \n",
       "451402         Nu şia ajutat pe nimeni dintre ai săi .   \n",
       "451403                 Şii/*mii(l) ajută pe prieteni .   \n",
       "451404                 Pe prietenii , Ion şiii ajută .   \n",
       "451405         Nu şiia trimis pe nimeni*i în ajutori .   \n",
       "451406  Ce que Jean a de plus précieux , c'est luimême   \n",
       "\n",
       "                                                  glosses   \n",
       "0                                            hello.friend  \\\n",
       "1                                            hello.friend   \n",
       "2                                                     yes   \n",
       "3                                                     yes   \n",
       "4             maybe PAST-enjoy-REDUP-sing.at.Sun.Dance-2S   \n",
       "...                                                   ...   \n",
       "451402  NEG CL.3SG.DAT-has helped LOC=DOM nobody from ...   \n",
       "451403  CL.3SG.REFL.DAT/1SG.DAT-CL.3M.SG.ACC help.3SG ...   \n",
       "451404  LOC=DOM friends, Ion CL.DAT.3SG.REFL-CL.3M.PL....   \n",
       "451405  NEG CL.3SG.REFL.DAT-has sent LOC=DOM nobody in...   \n",
       "451406  this that Jean has di more valuable it.is himself   \n",
       "\n",
       "                                              translation metalang_glottocode   \n",
       "0                                          hello friend .            stan1293  \\\n",
       "1                                          hello friend .            stan1293   \n",
       "2                                             yes/hello .            stan1293   \n",
       "3                                             yes/hello .            stan1293   \n",
       "4       Maybe you enjoyed singing songs at the Sun Dan...            stan1293   \n",
       "...                                                   ...                 ...   \n",
       "451402  Intended: `He hasn't helped anybody of his.' *...            stan1293   \n",
       "451403        Intended: `He is helping his own/my friend.            stan1293   \n",
       "451404                   His own friends, Ion helps them.            stan1293   \n",
       "451405    Lit. `He hasn't sent anybody to/as his own aid.            stan1293   \n",
       "451406        The most valuable thing Jean has is himself            stan1293   \n",
       "\n",
       "       is_segmented         source  \n",
       "0               yes  sigmorphon_st  \n",
       "1                no  sigmorphon_st  \n",
       "2               yes  sigmorphon_st  \n",
       "3                no  sigmorphon_st  \n",
       "4               yes  sigmorphon_st  \n",
       "...             ...            ...  \n",
       "451402           no       imtvault  \n",
       "451403           no       imtvault  \n",
       "451404           no       imtvault  \n",
       "451405           no       imtvault  \n",
       "451406           no       imtvault  \n",
       "\n",
       "[451407 rows x 8 columns]"
      ]
     },
     "execution_count": 67,
     "metadata": {},
     "output_type": "execute_result"
    }
   ],
   "source": [
    "import datasets\n",
    "\n",
    "data = datasets.load_dataset(\"lecslab/glosslm\")\n",
    "data = data['train'].to_pandas()\n",
    "data"
   ]
  },
  {
   "cell_type": "code",
   "execution_count": 68,
   "id": "0fb9acaf-c6ea-46da-90da-c26fbd507a4f",
   "metadata": {
    "tags": []
   },
   "outputs": [
    {
     "name": "stdout",
     "output_type": "stream",
     "text": [
      "Selected 128006 in-distribution examples, 8991 out-of-distribution, leaving 314410 remaining\n"
     ]
    }
   ],
   "source": [
    "in_dist = ['arap1274', 'uspa1245', 'dido1241']\n",
    "oo_dist = ['nyan1302', 'natu1246', 'lezg1247']\n",
    "\n",
    "mask_in_dist = (data['source'] == 'sigmorphon_st') & data['glottocode'].isin(in_dist)\n",
    "mask_oo_dist = data['glottocode'].isin(oo_dist)\n",
    "mask_not_in_either = ~(mask_in_dist | mask_oo_dist)\n",
    "\n",
    "in_dist_data = data[mask_in_dist]\n",
    "oo_dist_data = data[mask_oo_dist]\n",
    "train = data[mask_not_in_either]\n",
    "\n",
    "print(f\"Selected {len(in_dist_data)} in-distribution examples, {len(oo_dist_data)} out-of-distribution, leaving {len(train)} remaining\")"
   ]
  },
  {
   "cell_type": "code",
   "execution_count": 69,
   "id": "bb848a25-0848-40cc-a448-f4214b27a53b",
   "metadata": {
    "tags": []
   },
   "outputs": [
    {
     "data": {
      "text/plain": [
       "glottocode\n",
       "arap1274    7338\n",
       "dido1241     667\n",
       "uspa1245    1596\n",
       "Name: ID, dtype: int64"
      ]
     },
     "execution_count": 69,
     "metadata": {},
     "output_type": "execute_result"
    }
   ],
   "source": [
    "# Create split, stratifying by language and keeping IDs together\n",
    "from sklearn.model_selection import train_test_split\n",
    "\n",
    "unique_id_glottocode = in_dist_data[['ID', 'glottocode']].drop_duplicates()\n",
    "train_ids, test_ids = train_test_split(unique_id_glottocode, test_size=0.15, stratify=unique_id_glottocode['glottocode'])\n",
    "train_id = data[data['ID'].isin(train_ids['ID'])]\n",
    "test_id = data[data['ID'].isin(test_ids['ID'])]\n",
    "\n",
    "test_id.groupby('glottocode')['ID'].nunique()"
   ]
  },
  {
   "cell_type": "code",
   "execution_count": 70,
   "id": "19e42ffe-aeff-4dc2-8d21-ae285cc893f6",
   "metadata": {
    "tags": []
   },
   "outputs": [
    {
     "data": {
      "text/plain": [
       "glottocode\n",
       "lezg1247    132\n",
       "natu1246    149\n",
       "nyan1302    394\n",
       "Name: ID, dtype: int64"
      ]
     },
     "execution_count": 70,
     "metadata": {},
     "output_type": "execute_result"
    }
   ],
   "source": [
    "# Do the same for OOD data\n",
    "unique_id_glottocode = oo_dist_data[['ID', 'glottocode']].drop_duplicates()\n",
    "train_ids, test_ids = train_test_split(unique_id_glottocode, test_size=0.15, stratify=unique_id_glottocode['glottocode'])\n",
    "train_ood = data[data['ID'].isin(train_ids['ID'])]\n",
    "test_ood = data[data['ID'].isin(test_ids['ID'])]\n",
    "\n",
    "test_ood.groupby('glottocode')['ID'].nunique()"
   ]
  },
  {
   "cell_type": "code",
   "execution_count": 71,
   "id": "95b9e3e9-4cbd-4b7a-add7-07138d5509c3",
   "metadata": {
    "tags": []
   },
   "outputs": [],
   "source": [
    "import pandas as pd\n",
    "\n",
    "train = pd.concat([train, train_id])"
   ]
  },
  {
   "cell_type": "code",
   "execution_count": 72,
   "id": "a13cfb1a-ae7b-4970-9870-8c2f369172d9",
   "metadata": {
    "tags": []
   },
   "outputs": [
    {
     "data": {
      "text/plain": [
       "DatasetDict({\n",
       "    eval_id: Dataset({\n",
       "        features: ['ID', 'glottocode', 'transcription', 'glosses', 'translation', 'metalang_glottocode', 'is_segmented', 'source'],\n",
       "        num_rows: 19202\n",
       "    })\n",
       "    ft_ood: Dataset({\n",
       "        features: ['ID', 'glottocode', 'transcription', 'glosses', 'translation', 'metalang_glottocode', 'is_segmented', 'source'],\n",
       "        num_rows: 7642\n",
       "    })\n",
       "    eval_ood: Dataset({\n",
       "        features: ['ID', 'glottocode', 'transcription', 'glosses', 'translation', 'metalang_glottocode', 'is_segmented', 'source'],\n",
       "        num_rows: 1349\n",
       "    })\n",
       "    train: Dataset({\n",
       "        features: ['ID', 'glottocode', 'transcription', 'glosses', 'translation', 'metalang_glottocode', 'is_segmented', 'source'],\n",
       "        num_rows: 423214\n",
       "    })\n",
       "})"
      ]
     },
     "execution_count": 72,
     "metadata": {},
     "output_type": "execute_result"
    }
   ],
   "source": [
    "split_dataset = datasets.DatasetDict()\n",
    "split_dataset['eval_id'] = datasets.Dataset.from_pandas(test_id).remove_columns([\"__index_level_0__\"])\n",
    "split_dataset['ft_ood'] = datasets.Dataset.from_pandas(train_ood).remove_columns([\"__index_level_0__\"])\n",
    "split_dataset['eval_ood'] = datasets.Dataset.from_pandas(test_ood).remove_columns([\"__index_level_0__\"])\n",
    "split_dataset['train'] = datasets.Dataset.from_pandas(train).remove_columns([\"__index_level_0__\"])\n",
    "split_dataset"
   ]
  },
  {
   "cell_type": "code",
   "execution_count": 73,
   "id": "44b9d550-f651-42c0-9a18-f3ccf8946254",
   "metadata": {
    "tags": []
   },
   "outputs": [
    {
     "name": "stdout",
     "output_type": "stream",
     "text": [
      "Looks good :)\n"
     ]
    }
   ],
   "source": [
    "# Sanity check\n",
    "\n",
    "split_dataset_total_rows = sum(len(dataset) for dataset in split_dataset.values())\n",
    "\n",
    "if (split_dataset_total_rows != len(data)):\n",
    "    print(\"Mismatch!\")\n",
    "else:\n",
    "    print(\"Looks good :)\")"
   ]
  },
  {
   "cell_type": "code",
   "execution_count": 76,
   "id": "c39ae6c6-2ff5-43cd-b65c-418043090c31",
   "metadata": {
    "tags": []
   },
   "outputs": [
    {
     "data": {
      "application/vnd.jupyter.widget-view+json": {
       "model_id": "206a98a70149426e92e1b5d8fd2312dc",
       "version_major": 2,
       "version_minor": 0
      },
      "text/plain": [
       "Pushing dataset shards to the dataset hub:   0%|          | 0/1 [00:00<?, ?it/s]"
      ]
     },
     "metadata": {},
     "output_type": "display_data"
    },
    {
     "data": {
      "application/vnd.jupyter.widget-view+json": {
       "model_id": "08731708dfc84bd39ebef1e5eeb54da0",
       "version_major": 2,
       "version_minor": 0
      },
      "text/plain": [
       "Pushing dataset shards to the dataset hub:   0%|          | 0/1 [00:00<?, ?it/s]"
      ]
     },
     "metadata": {},
     "output_type": "display_data"
    },
    {
     "data": {
      "application/vnd.jupyter.widget-view+json": {
       "model_id": "03e924b47a1b4d1dae27288a37d21d86",
       "version_major": 2,
       "version_minor": 0
      },
      "text/plain": [
       "Pushing dataset shards to the dataset hub:   0%|          | 0/1 [00:00<?, ?it/s]"
      ]
     },
     "metadata": {},
     "output_type": "display_data"
    },
    {
     "data": {
      "application/vnd.jupyter.widget-view+json": {
       "model_id": "dcbd28407ee24c018aba943ba3885391",
       "version_major": 2,
       "version_minor": 0
      },
      "text/plain": [
       "Pushing dataset shards to the dataset hub:   0%|          | 0/1 [00:00<?, ?it/s]"
      ]
     },
     "metadata": {},
     "output_type": "display_data"
    },
    {
     "data": {
      "application/vnd.jupyter.widget-view+json": {
       "model_id": "df4f06df38ef4fb98124d39d4f132297",
       "version_major": 2,
       "version_minor": 0
      },
      "text/plain": [
       "Creating parquet from Arrow format:   0%|          | 0/424 [00:00<?, ?ba/s]"
      ]
     },
     "metadata": {},
     "output_type": "display_data"
    },
    {
     "data": {
      "application/vnd.jupyter.widget-view+json": {
       "model_id": "12abcd46db744b6da445342997e72d8d",
       "version_major": 2,
       "version_minor": 0
      },
      "text/plain": [
       "Deleting unused files from dataset repository:   0%|          | 0/1 [00:00<?, ?it/s]"
      ]
     },
     "metadata": {},
     "output_type": "display_data"
    },
    {
     "data": {
      "application/vnd.jupyter.widget-view+json": {
       "model_id": "5ca888bbc4cf4d0abe866cdc80143879",
       "version_major": 2,
       "version_minor": 0
      },
      "text/plain": [
       "Downloading metadata:   0%|          | 0.00/719 [00:00<?, ?B/s]"
      ]
     },
     "metadata": {},
     "output_type": "display_data"
    }
   ],
   "source": [
    "split_dataset.push_to_hub(\"lecslab/glosslm\")"
   ]
  },
  {
   "cell_type": "code",
   "execution_count": null,
   "id": "e4c4dc50-b383-4ad0-b7e6-3896b1143434",
   "metadata": {},
   "outputs": [],
   "source": []
  }
 ],
 "metadata": {
  "kernelspec": {
   "display_name": "Python 3 (ipykernel)",
   "language": "python",
   "name": "python3"
  },
  "language_info": {
   "codemirror_mode": {
    "name": "ipython",
    "version": 3
   },
   "file_extension": ".py",
   "mimetype": "text/x-python",
   "name": "python",
   "nbconvert_exporter": "python",
   "pygments_lexer": "ipython3",
   "version": "3.10.0"
  }
 },
 "nbformat": 4,
 "nbformat_minor": 5
}
