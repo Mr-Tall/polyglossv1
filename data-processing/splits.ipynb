{
 "cells": [
  {
   "cell_type": "code",
   "execution_count": 3,
   "id": "ef67b8f8-6e6c-4b39-bce0-3c9c499af23e",
   "metadata": {
    "tags": [],
    "ExecuteTime": {
     "end_time": "2023-12-01T22:59:25.627855Z",
     "start_time": "2023-12-01T22:59:24.050181Z"
    }
   },
   "outputs": [],
   "source": [
    "import datasets\n",
    "\n",
    "data = datasets.load_dataset(\"lecslab/glosslm\")"
   ]
  },
  {
   "cell_type": "code",
   "execution_count": null,
   "outputs": [],
   "source": [
    "# Map glottocodes to languages\n",
    "\n",
    "from tqdm import tqdm\n",
    "from pyglottolog import Glottolog\n",
    "glottolog = Glottolog('../../glottolog')\n",
    "\n",
    "all_glottocodes = set(data['train'].unique('glottocode'))\n",
    "glottocode_mapping = dict()\n",
    "for code in tqdm(all_glottocodes):\n",
    "    languoid = glottolog.languoid(code) if code != '' and code is not None else None\n",
    "    glottocode_mapping[code] = languoid.name if languoid else 'Unknown language'\n",
    "\n",
    "glottocode_mapping"
   ],
   "metadata": {
    "collapsed": false
   }
  },
  {
   "cell_type": "code",
   "execution_count": 16,
   "outputs": [
    {
     "data": {
      "text/plain": "Map:   0%|          | 0/425020 [00:00<?, ? examples/s]",
      "application/vnd.jupyter.widget-view+json": {
       "version_major": 2,
       "version_minor": 0,
       "model_id": "45af180476954710861a68ee1daa1b8e"
      }
     },
     "metadata": {},
     "output_type": "display_data"
    }
   ],
   "source": [
    "def map_glottocodes(row):\n",
    "    row['language'] = glottocode_mapping[row['glottocode']]\n",
    "    row['metalang'] = glottocode_mapping[row['metalang_glottocode']]\n",
    "    if row['metalang'] == 'Unknown language':\n",
    "        row['metalang'] = ''\n",
    "    return row\n",
    "\n",
    "data = data.map(map_glottocodes)"
   ],
   "metadata": {
    "collapsed": false,
    "ExecuteTime": {
     "end_time": "2023-12-01T23:31:29.900507Z",
     "start_time": "2023-12-01T23:31:10.599552Z"
    }
   }
  },
  {
   "cell_type": "code",
   "execution_count": 19,
   "outputs": [],
   "source": [
    "data.push_to_hub('lecslab/glosslm')"
   ],
   "metadata": {
    "collapsed": false,
    "ExecuteTime": {
     "end_time": "2023-12-01T23:32:22.454996Z",
     "start_time": "2023-12-01T23:32:22.452143Z"
    }
   }
  },
  {
   "cell_type": "code",
   "execution_count": 21,
   "id": "0fb9acaf-c6ea-46da-90da-c26fbd507a4f",
   "metadata": {
    "tags": [],
    "ExecuteTime": {
     "end_time": "2023-12-01T23:32:57.536812Z",
     "start_time": "2023-12-01T23:32:56.545595Z"
    }
   },
   "outputs": [
    {
     "data": {
      "text/plain": "DatasetDict({\n    train: Dataset({\n        features: ['ID', 'glottocode', 'transcription', 'glosses', 'translation', 'metalang_glottocode', 'is_segmented', 'source', 'language', 'metalang'],\n        num_rows: 392951\n    })\n    train_ID: Dataset({\n        features: ['ID', 'glottocode', 'transcription', 'glosses', 'translation', 'metalang_glottocode', 'is_segmented', 'source', 'language', 'metalang'],\n        num_rows: 104928\n    })\n    eval_ID: Dataset({\n        features: ['ID', 'glottocode', 'transcription', 'glosses', 'translation', 'metalang_glottocode', 'is_segmented', 'source', 'language', 'metalang'],\n        num_rows: 11138\n    })\n    test_ID: Dataset({\n        features: ['ID', 'glottocode', 'transcription', 'glosses', 'translation', 'metalang_glottocode', 'is_segmented', 'source', 'language', 'metalang'],\n        num_rows: 11940\n    })\n    train_OOD: Dataset({\n        features: ['ID', 'glottocode', 'transcription', 'glosses', 'translation', 'metalang_glottocode', 'is_segmented', 'source', 'language', 'metalang'],\n        num_rows: 7193\n    })\n    eval_OOD: Dataset({\n        features: ['ID', 'glottocode', 'transcription', 'glosses', 'translation', 'metalang_glottocode', 'is_segmented', 'source', 'language', 'metalang'],\n        num_rows: 900\n    })\n    test_OOD: Dataset({\n        features: ['ID', 'glottocode', 'transcription', 'glosses', 'translation', 'metalang_glottocode', 'is_segmented', 'source', 'language', 'metalang'],\n        num_rows: 898\n    })\n})"
     },
     "execution_count": 21,
     "metadata": {},
     "output_type": "execute_result"
    }
   ],
   "source": [
    "data = data['train'].to_pandas()\n",
    "\n",
    "in_dist = ['arap1274', 'uspa1245', 'dido1241']\n",
    "oo_dist = ['nyan1302', 'natu1246', 'lezg1247']\n",
    "\n",
    "mask_in_dist_train = (data['source'] == 'sigmorphon_st') & data['glottocode'].isin(in_dist) & (data['ID'].str.contains('train'))\n",
    "mask_in_dist_eval = (data['source'] == 'sigmorphon_st') & data['glottocode'].isin(in_dist) & (data['ID'].str.contains('dev'))\n",
    "mask_in_dist_test = (data['source'] == 'sigmorphon_st') & data['glottocode'].isin(in_dist) & (data['ID'].str.contains('test'))\n",
    "\n",
    "mask_ood_dist_train = (data['glottocode'].isin(oo_dist) & ((data['ID'].str.contains('train')) | (data['source'] != 'sigmorphon_st')))\n",
    "mask_ood_dist_eval = data['glottocode'].isin(oo_dist) & (data['ID'].str.contains('dev'))\n",
    "mask_ood_dist_test = data['glottocode'].isin(oo_dist) & (data['ID'].str.contains('test'))\n",
    "\n",
    "mask_other_train = ~(mask_in_dist_train | mask_in_dist_eval | mask_in_dist_test | mask_ood_dist_train | mask_ood_dist_eval | mask_ood_dist_test)\n",
    "\n",
    "split_dataset = datasets.DatasetDict()\n",
    "\n",
    "split_dataset['train']     = datasets.Dataset.from_pandas(data[mask_in_dist_train | mask_other_train])\n",
    "split_dataset['train_ID']  = datasets.Dataset.from_pandas(data[mask_in_dist_train])\n",
    "split_dataset['eval_ID']   = datasets.Dataset.from_pandas(data[mask_in_dist_eval])\n",
    "split_dataset['test_ID']   = datasets.Dataset.from_pandas(data[mask_in_dist_test])\n",
    "split_dataset['train_OOD'] = datasets.Dataset.from_pandas(data[mask_ood_dist_train])\n",
    "split_dataset['eval_OOD']  = datasets.Dataset.from_pandas(data[mask_ood_dist_eval])\n",
    "split_dataset['test_OOD']  = datasets.Dataset.from_pandas(data[mask_ood_dist_test])\n",
    "\n",
    "split_dataset = split_dataset.remove_columns(['type', '__index_level_0__'])\n",
    "split_dataset"
   ]
  },
  {
   "cell_type": "code",
   "execution_count": 22,
   "id": "a13cfb1a-ae7b-4970-9870-8c2f369172d9",
   "metadata": {
    "tags": [],
    "ExecuteTime": {
     "end_time": "2023-12-01T23:33:21.903864Z",
     "start_time": "2023-12-01T23:33:06.762833Z"
    }
   },
   "outputs": [
    {
     "data": {
      "text/plain": "Uploading the dataset shards:   0%|          | 0/1 [00:00<?, ?it/s]",
      "application/vnd.jupyter.widget-view+json": {
       "version_major": 2,
       "version_minor": 0,
       "model_id": "e1614cb427c543f6892a7478867ad334"
      }
     },
     "metadata": {},
     "output_type": "display_data"
    },
    {
     "data": {
      "text/plain": "Creating parquet from Arrow format:   0%|          | 0/393 [00:00<?, ?ba/s]",
      "application/vnd.jupyter.widget-view+json": {
       "version_major": 2,
       "version_minor": 0,
       "model_id": "f9a37e821a3e439d987b5cda8a1836f1"
      }
     },
     "metadata": {},
     "output_type": "display_data"
    },
    {
     "data": {
      "text/plain": "Uploading the dataset shards:   0%|          | 0/1 [00:00<?, ?it/s]",
      "application/vnd.jupyter.widget-view+json": {
       "version_major": 2,
       "version_minor": 0,
       "model_id": "86f360ff46b74f5a92c0566216bd7553"
      }
     },
     "metadata": {},
     "output_type": "display_data"
    },
    {
     "data": {
      "text/plain": "Creating parquet from Arrow format:   0%|          | 0/105 [00:00<?, ?ba/s]",
      "application/vnd.jupyter.widget-view+json": {
       "version_major": 2,
       "version_minor": 0,
       "model_id": "efb243e2838b49248be2a495404c2b88"
      }
     },
     "metadata": {},
     "output_type": "display_data"
    },
    {
     "data": {
      "text/plain": "Uploading the dataset shards:   0%|          | 0/1 [00:00<?, ?it/s]",
      "application/vnd.jupyter.widget-view+json": {
       "version_major": 2,
       "version_minor": 0,
       "model_id": "d2588a6c0be8463ebeb040a40297c968"
      }
     },
     "metadata": {},
     "output_type": "display_data"
    },
    {
     "data": {
      "text/plain": "Creating parquet from Arrow format:   0%|          | 0/12 [00:00<?, ?ba/s]",
      "application/vnd.jupyter.widget-view+json": {
       "version_major": 2,
       "version_minor": 0,
       "model_id": "28b6a3a520a846d38a32e3c52c3f40e6"
      }
     },
     "metadata": {},
     "output_type": "display_data"
    },
    {
     "data": {
      "text/plain": "Uploading the dataset shards:   0%|          | 0/1 [00:00<?, ?it/s]",
      "application/vnd.jupyter.widget-view+json": {
       "version_major": 2,
       "version_minor": 0,
       "model_id": "ccf05db1e84941a4bc04f3400958554c"
      }
     },
     "metadata": {},
     "output_type": "display_data"
    },
    {
     "data": {
      "text/plain": "Creating parquet from Arrow format:   0%|          | 0/12 [00:00<?, ?ba/s]",
      "application/vnd.jupyter.widget-view+json": {
       "version_major": 2,
       "version_minor": 0,
       "model_id": "f125fd783e814a83b3e7df10a0e5e963"
      }
     },
     "metadata": {},
     "output_type": "display_data"
    },
    {
     "data": {
      "text/plain": "Uploading the dataset shards:   0%|          | 0/1 [00:00<?, ?it/s]",
      "application/vnd.jupyter.widget-view+json": {
       "version_major": 2,
       "version_minor": 0,
       "model_id": "852514991c3e40efb19e609ec85393b0"
      }
     },
     "metadata": {},
     "output_type": "display_data"
    },
    {
     "data": {
      "text/plain": "Creating parquet from Arrow format:   0%|          | 0/8 [00:00<?, ?ba/s]",
      "application/vnd.jupyter.widget-view+json": {
       "version_major": 2,
       "version_minor": 0,
       "model_id": "410cfaadcdaf421ab38b20f0da90c748"
      }
     },
     "metadata": {},
     "output_type": "display_data"
    },
    {
     "data": {
      "text/plain": "Uploading the dataset shards:   0%|          | 0/1 [00:00<?, ?it/s]",
      "application/vnd.jupyter.widget-view+json": {
       "version_major": 2,
       "version_minor": 0,
       "model_id": "9c39f7af8dd44eb5a46bef179bdab28f"
      }
     },
     "metadata": {},
     "output_type": "display_data"
    },
    {
     "data": {
      "text/plain": "Creating parquet from Arrow format:   0%|          | 0/1 [00:00<?, ?ba/s]",
      "application/vnd.jupyter.widget-view+json": {
       "version_major": 2,
       "version_minor": 0,
       "model_id": "e32aeb1becec4877b8ac806a5c78d4f0"
      }
     },
     "metadata": {},
     "output_type": "display_data"
    },
    {
     "data": {
      "text/plain": "Uploading the dataset shards:   0%|          | 0/1 [00:00<?, ?it/s]",
      "application/vnd.jupyter.widget-view+json": {
       "version_major": 2,
       "version_minor": 0,
       "model_id": "6ba7ebfe57dd4b8290cc741460bd5ae9"
      }
     },
     "metadata": {},
     "output_type": "display_data"
    },
    {
     "data": {
      "text/plain": "Creating parquet from Arrow format:   0%|          | 0/1 [00:00<?, ?ba/s]",
      "application/vnd.jupyter.widget-view+json": {
       "version_major": 2,
       "version_minor": 0,
       "model_id": "c8439276316c4d3da74f44c8df194429"
      }
     },
     "metadata": {},
     "output_type": "display_data"
    }
   ],
   "source": [
    "split_dataset.push_to_hub('lecslab/glosslm-split', commit_message='Add language names')"
   ]
  },
  {
   "cell_type": "code",
   "execution_count": 23,
   "id": "44b9d550-f651-42c0-9a18-f3ccf8946254",
   "metadata": {
    "tags": [],
    "ExecuteTime": {
     "end_time": "2023-12-01T23:33:21.912182Z",
     "start_time": "2023-12-01T23:33:21.906373Z"
    }
   },
   "outputs": [
    {
     "name": "stdout",
     "output_type": "stream",
     "text": [
      "Looks good :)\n"
     ]
    }
   ],
   "source": [
    "# Sanity check\n",
    "\n",
    "split_dataset_total_rows = sum(len(dataset) for dataset in split_dataset.values()) - len(split_dataset['train_ID'])\n",
    "\n",
    "if (split_dataset_total_rows != len(data)):\n",
    "    print(f\"Mismatch! {split_dataset_total_rows} in split and {len(data)} total\")\n",
    "else:\n",
    "    print(\"Looks good :)\")"
   ]
  },
  {
   "cell_type": "code",
   "execution_count": null,
   "id": "628798a2-db69-47ee-8c80-25d066cd31fb",
   "metadata": {},
   "outputs": [],
   "source": []
  }
 ],
 "metadata": {
  "kernelspec": {
   "display_name": "Python 3 (ipykernel)",
   "language": "python",
   "name": "python3"
  },
  "language_info": {
   "codemirror_mode": {
    "name": "ipython",
    "version": 3
   },
   "file_extension": ".py",
   "mimetype": "text/x-python",
   "name": "python",
   "nbconvert_exporter": "python",
   "pygments_lexer": "ipython3",
   "version": "3.10.0"
  }
 },
 "nbformat": 4,
 "nbformat_minor": 5
}
