{
 "cells": [
  {
   "cell_type": "code",
   "execution_count": 1,
   "id": "ef67b8f8-6e6c-4b39-bce0-3c9c499af23e",
   "metadata": {
    "ExecuteTime": {
     "end_time": "2023-12-01T22:59:25.627855Z",
     "start_time": "2023-12-01T22:59:24.050181Z"
    },
    "tags": []
   },
   "outputs": [
    {
     "data": {
      "application/vnd.jupyter.widget-view+json": {
       "model_id": "9a40f80975b9449f99a14b9481b1ecd6",
       "version_major": 2,
       "version_minor": 0
      },
      "text/plain": [
       "Downloading readme:   0%|          | 0.00/558 [00:00<?, ?B/s]"
      ]
     },
     "metadata": {},
     "output_type": "display_data"
    },
    {
     "data": {
      "application/vnd.jupyter.widget-view+json": {
       "model_id": "a0eaddbcde60497c92e58ee47c7da486",
       "version_major": 2,
       "version_minor": 0
      },
      "text/plain": [
       "Downloading data files:   0%|          | 0/1 [00:00<?, ?it/s]"
      ]
     },
     "metadata": {},
     "output_type": "display_data"
    },
    {
     "data": {
      "application/vnd.jupyter.widget-view+json": {
       "model_id": "5e19784e6dd74acd8f8172cb6e213443",
       "version_major": 2,
       "version_minor": 0
      },
      "text/plain": [
       "Downloading data:   0%|          | 0.00/31.0M [00:00<?, ?B/s]"
      ]
     },
     "metadata": {},
     "output_type": "display_data"
    },
    {
     "data": {
      "application/vnd.jupyter.widget-view+json": {
       "model_id": "d442bb322fa74dfcada717647be699e2",
       "version_major": 2,
       "version_minor": 0
      },
      "text/plain": [
       "Extracting data files:   0%|          | 0/1 [00:00<?, ?it/s]"
      ]
     },
     "metadata": {},
     "output_type": "display_data"
    },
    {
     "data": {
      "application/vnd.jupyter.widget-view+json": {
       "model_id": "bb9dcb8d6a0743e488276efe6ceff70f",
       "version_major": 2,
       "version_minor": 0
      },
      "text/plain": [
       "Generating train split:   0%|          | 0/313900 [00:00<?, ? examples/s]"
      ]
     },
     "metadata": {},
     "output_type": "display_data"
    },
    {
     "data": {
      "text/plain": [
       "DatasetDict({\n",
       "    train: Dataset({\n",
       "        features: ['transcription', 'glosses', 'translation', 'glottocode', 'id', 'source', 'metalang_glottocode', 'is_segmented'],\n",
       "        num_rows: 451108\n",
       "    })\n",
       "})"
      ]
     },
     "execution_count": 1,
     "metadata": {},
     "output_type": "execute_result"
    }
   ],
   "source": [
    "import datasets\n",
    "\n",
    "data = datasets.load_dataset(\"lecslab/glosslm\", download_mode=\"force_redownload\", verification_mode=\"no_checks\")\n",
    "data"
   ]
  },
  {
   "cell_type": "code",
   "execution_count": 2,
   "id": "df7367a9",
   "metadata": {
    "collapsed": true,
    "jupyter": {
     "outputs_hidden": true
    }
   },
   "outputs": [
    {
     "name": "stderr",
     "output_type": "stream",
     "text": [
      "100%|██████████| 1786/1786 [11:03<00:00,  2.69it/s]\n"
     ]
    },
    {
     "data": {
      "text/plain": [
       "{'': 'Unknown language',\n",
       " 'uraa1244': 'Ura',\n",
       " 'midd1316': 'Middle French',\n",
       " 'ghan1244': 'Ghanaian Pidgin English',\n",
       " 'tsat1238': 'Tsat',\n",
       " 'tedi1235': 'Tedim Chin',\n",
       " 'bena1262': 'Bena (Tanzania)',\n",
       " 'yawu1244': 'Yawuru',\n",
       " 'pila1245': 'Pilagá',\n",
       " 'bafu1246': 'Bafut',\n",
       " 'turk1303': 'Khalaj Turkic',\n",
       " 'gras1239': 'Grassland Mari',\n",
       " 'otta1242': 'Ottawa',\n",
       " 'east2346': 'Eastern Gorkha Tamang',\n",
       " 'siwi1239': 'Siwi',\n",
       " 'sain1246': 'Saint Lucian Creole French',\n",
       " 'kitu1246': 'Kituba (Democratic Republic of Congo)',\n",
       " 'oldp1257': 'Old Portuguese',\n",
       " 'panj1256': 'Eastern Panjabi',\n",
       " 'torr1259': 'Aro',\n",
       " 'nsen1242': 'Nsenga',\n",
       " 'beem1239': 'Beembe',\n",
       " 'muru1266': 'Muruwari',\n",
       " 'rovi1238': 'Roviana',\n",
       " 'shix1238': 'Shixing',\n",
       " 'abkh1244': 'Abkhaz',\n",
       " 'shiw1234': 'Shiwa',\n",
       " 'pany1241': 'Panytyima',\n",
       " 'mala1544': 'Malabar-Sri Lanka Portuguese',\n",
       " 'guru1261': 'Gurung',\n",
       " 'pulu1242': 'Puluwatese',\n",
       " 'guil1236': 'Güilá Zapotec',\n",
       " 'jehh1245': 'Jeh',\n",
       " 'nezp1238': 'Nez Perce',\n",
       " 'khan1278': 'Khana',\n",
       " 'yine1238': 'Yine',\n",
       " 'nucl1302': 'Georgian',\n",
       " 'maga1260': 'Magahi',\n",
       " 'jama1262': 'Jamaican Creole English',\n",
       " 'laze1238': 'Laze',\n",
       " 'ibib1240': 'Ibibio',\n",
       " 'siar1238': 'Siar-Lak',\n",
       " 'texm1235': 'Texmelucan Zapotec',\n",
       " 'papa1265': 'Papapana',\n",
       " 'sard1257': 'Sardinian',\n",
       " 'plai1258': 'Plains Cree',\n",
       " 'cusc1236': 'Cusco Quechua',\n",
       " 'nort2920': 'North Tairora',\n",
       " 'gali1262': 'Galibi Carib',\n",
       " 'cent2127': 'Central Alaskan Yupik',\n",
       " 'bona1250': 'Bonan',\n",
       " 'sout3262': 'Southern Selkup',\n",
       " 'bauc1238': 'Bauchi',\n",
       " 'nort2646': 'Northern Pashto',\n",
       " 'nalc1240': 'Nalca',\n",
       " 'occi1239': 'Occitan',\n",
       " 'ashe1273': 'Ashéninka Pajonal',\n",
       " 'tuva1244': 'Tuvalu',\n",
       " 'nucl1301': 'Turkish',\n",
       " 'urak1238': \"Urak Lawoi'\",\n",
       " 'mari1278': 'Mari',\n",
       " 'rawa1265': 'Rawang',\n",
       " 'midd1317': 'Middle English',\n",
       " 'kumz1235': 'Kumzari',\n",
       " 'roma1326': 'Romansh',\n",
       " 'buna1275': 'Bunaba',\n",
       " 'west2599': 'West Kewa',\n",
       " 'oldt1248': 'Old Tamil',\n",
       " 'sout2694': 'Southern Altai',\n",
       " 'nort2810': 'Northern Grebo',\n",
       " 'mara1386': 'Maranunggu',\n",
       " 'nand1266': 'Nandi',\n",
       " 'bagv1239': 'Bagvalal',\n",
       " 'ghom1257': 'Ghomara',\n",
       " 'kama1373': 'Kamayurá',\n",
       " 'enge1239': 'Egene',\n",
       " 'nakh1245': 'Nakh-Daghestanian',\n",
       " 'awad1243': 'Awadhi',\n",
       " 'tswa1253': 'Tswana',\n",
       " 'kunj1245': 'Kunjen',\n",
       " 'pwoe1235': 'Pwo Eastern Karen',\n",
       " 'mans1258': 'Northern Mansi',\n",
       " 'pitt1247': 'Pitta Pitta',\n",
       " 'ndii1240': 'Ndi',\n",
       " 'bant1294': 'Bantoid',\n",
       " 'pana1305': 'Panamint',\n",
       " 'kuli1255': 'Kulina Pano',\n",
       " 'digo1243': 'Digo',\n",
       " 'mapu1245': 'Mapudungun',\n",
       " 'buku1249': 'Bukusu',\n",
       " 'chor1273': 'Chortí',\n",
       " 'ruul1235': 'Ruuli',\n",
       " 'jurm1239': 'Jur Modo',\n",
       " 'rapa1245': 'Mangaia-Old Rapa',\n",
       " 'mitl1236': 'Mitla Zapotec',\n",
       " 'abee1242': 'Abé',\n",
       " 'sout2741': 'Southern Dong',\n",
       " 'kase1253': 'Kasem',\n",
       " 'riop1234': 'Rioplatense Spanish',\n",
       " 'soni1259': 'Soninke',\n",
       " 'yamp1242': 'Yamphu',\n",
       " 'tuar1240': 'Tuareg',\n",
       " 'tong1325': 'Tonga (Tonga Islands)',\n",
       " 'maru1253': 'Maruat-Dimiri-Yaul',\n",
       " 'rong1268': 'Ronga',\n",
       " 'bang1354': 'Bobangi',\n",
       " 'nucl1643': 'Japanese',\n",
       " 'anim1240': 'Anim',\n",
       " 'amba1265': 'Ambai',\n",
       " 'lang1328': 'Pondi',\n",
       " 'ande1247': 'Andegerebinha',\n",
       " 'ngas1240': 'Ngas',\n",
       " 'sari1246': 'Sarikoli',\n",
       " 'hani1248': 'Hani',\n",
       " 'oldn1244': 'Old Norse',\n",
       " 'taki1248': 'Takia',\n",
       " 'kuan1248': 'Kuanua',\n",
       " 'athp1241': 'Athpariya',\n",
       " 'algo1257': 'Algonquian',\n",
       " 'sout1528': 'Serbian-Croatian-Bosnian',\n",
       " 'shua1254': 'Shua',\n",
       " 'oldr1238': 'Old Russian',\n",
       " 'spok1245': 'Spokane',\n",
       " 'aleu1260': 'Aleut',\n",
       " 'aghe1239': 'Aghem',\n",
       " 'sikk1242': 'Sikkimese',\n",
       " 'zoog1238': 'Zoogocho Zapotec',\n",
       " 'chin1272': 'Creolized Grand Ronde Chinook Jargon',\n",
       " 'burm1264': 'Burmeso',\n",
       " 'ambu1247': 'Ambulas',\n",
       " 'nucl1632': 'Sentani',\n",
       " 'khas1269': 'Khasi',\n",
       " 'chum1264': 'Chumash',\n",
       " 'hmar1241': 'Hmar',\n",
       " 'nort2938': 'Northern Haida',\n",
       " 'pure1242': 'Purepecha',\n",
       " 'olut1240': 'Oluta Popoluca',\n",
       " 'kalk1246': 'Kalkatungu',\n",
       " 'nort2828': 'North Moluccan Malay',\n",
       " 'naba1256': 'Nabak',\n",
       " 'keni1249': 'Keningau Murut',\n",
       " 'aust1305': 'Austroasiatic',\n",
       " 'darl1243': 'Paakantyi',\n",
       " 'makw1236': 'Makwe',\n",
       " 'nort2722': 'Northern Qiang',\n",
       " 'kett1243': 'Ket',\n",
       " 'kera1255': 'Kera',\n",
       " 'taim1252': 'Taimyr Pidgin Russian',\n",
       " 'shek1243': 'Shekhawati',\n",
       " 'goka1239': 'Gokana',\n",
       " 'oriy1255': 'Odia',\n",
       " 'halh1238': 'Halh Mongolian',\n",
       " 'tigr1270': 'Tigre',\n",
       " 'turk1304': 'Turkmen',\n",
       " 'kaon1241': 'Kaonde',\n",
       " 'byan1241': 'Byangsi',\n",
       " 'matu1259': 'Matumbi',\n",
       " 'uban1244': 'Ubangi',\n",
       " 'mafe1237': 'Mafea',\n",
       " 'djee1236': 'Djeebbana',\n",
       " 'wals1238': 'Walser',\n",
       " 'chir1284': 'Chirag',\n",
       " 'tika1246': 'Tikar',\n",
       " 'pohn1238': 'Pohnpeian',\n",
       " 'west1760': 'Courland Livonian',\n",
       " 'sasa1249': 'Sasak',\n",
       " 'jica1244': 'Jicarilla Apache',\n",
       " 'mach1266': 'Machame',\n",
       " 'gily1242': 'Amur Nivkh',\n",
       " 'mich1243': 'Michif',\n",
       " 'dolg1241': 'Dolgan',\n",
       " 'koal1240': 'Koalib-Rere',\n",
       " 'gbay1292': 'Kresh',\n",
       " 'oldf1239': 'Old French (842-ca. 1400)',\n",
       " 'uigh1240': 'Uighur',\n",
       " 'main1267': 'Ostfränkisch',\n",
       " 'cors1241': 'Corsican',\n",
       " 'tima1241': 'Tima',\n",
       " 'haya1250': 'Haya',\n",
       " 'tuca1252': 'Tucano',\n",
       " 'kwaa1262': 'Baa',\n",
       " 'gawa1247': 'Gawar-Bati',\n",
       " 'narr1259': 'Narrinyeri',\n",
       " 'udmu1245': 'Udmurt',\n",
       " 'pali1279': 'Palikúr',\n",
       " 'arma1243': 'Arman',\n",
       " 'bora1271': 'Borana-Arsi-Guji Oromo',\n",
       " 'wira1264': 'Wiraféd',\n",
       " 'kuna1268': 'Kunama',\n",
       " 'akhv1239': 'Northern Akhvakh',\n",
       " 'sema1266': 'Semai',\n",
       " 'kama1365': 'Kamang',\n",
       " 'bamb1269': 'Bambara',\n",
       " 'clas1252': 'Classical Syriac',\n",
       " 'taly1247': 'North-Central Talysh',\n",
       " 'saek1240': 'Saek',\n",
       " 'acol1236': 'Acoli',\n",
       " 'toor1238': 'Tooro',\n",
       " 'assi1247': 'Assiniboine',\n",
       " 'boro1282': 'Bororo',\n",
       " 'ainu1240': 'Hokkaido Ainu',\n",
       " 'tuni1259': 'Tunisian Arabic',\n",
       " 'nort2957': 'Northern Puebla Nahuatl',\n",
       " 'fior1235': 'Fiorentino',\n",
       " 'mund1330': 'Mundurukú',\n",
       " 'kaza1248': 'Kazakh',\n",
       " 'nyul1248': 'Nyulnyulan',\n",
       " 'bilo1248': 'Biloxi',\n",
       " 'iwai1244': 'Iwaidja',\n",
       " 'west1510': 'Western Ojibwa',\n",
       " 'tepo1239': 'Tepo Krumen',\n",
       " 'nand1264': 'Nande',\n",
       " 'arhu1242': 'Arhuaco',\n",
       " 'tern1248': 'Ternateño',\n",
       " 'sici1248': 'Sicilian',\n",
       " 'osag1243': 'Osage',\n",
       " 'ship1254': 'Shipibo-Conibo',\n",
       " 'omah1247': 'Omaha-Ponca',\n",
       " 'hava1249': 'Havasupai',\n",
       " 'bang1341': 'Bangla',\n",
       " 'niue1239': 'Niuean',\n",
       " 'high1276': 'Highland Popoluca',\n",
       " 'lith1251': 'Lithuanian',\n",
       " 'ikiz1238': 'Ikizu',\n",
       " 'chav1241': 'Chavacano',\n",
       " 'sukw1242': 'Sukwa',\n",
       " 'atak1252': 'Atakapa',\n",
       " 'japh1234': 'Japhug',\n",
       " 'dege1246': 'Degema',\n",
       " 'kaqc1270': 'Kaqchikel',\n",
       " 'shon1251': 'Shona',\n",
       " 'mina1276': 'Mina (Cameroon)',\n",
       " 'naki1238': 'Naki',\n",
       " 'tada1238': 'Tadaksahak',\n",
       " 'bena1259': 'Bena',\n",
       " 'sett1235': 'KiSetla',\n",
       " 'nava1243': 'Navajo',\n",
       " 'taba1266': 'Tabasco Chontal',\n",
       " 'ambo1250': 'Ambonese Malay',\n",
       " 'mang1381': 'Mangarrayi',\n",
       " 'eeee1240': 'E',\n",
       " 'ocea1241': 'Oceanic',\n",
       " 'carn1240': 'Car Nicobarese',\n",
       " 'megl1237': 'Megleno-Romanian',\n",
       " 'chan1318': 'Changana',\n",
       " 'kiow1264': 'Kiowa Apache',\n",
       " 'cent2126': 'Central Okinawan',\n",
       " 'eski1266': 'Herschel Island Eskimo Trade Jargon',\n",
       " 'koko1269': 'Kokota',\n",
       " 'hary1238': 'Haryanvi',\n",
       " 'camp1261': 'Campidanese Sardinian',\n",
       " 'dava1250': 'Davani',\n",
       " 'late1256': 'Late Egyptian',\n",
       " 'guia1246': 'Guianese Creole French',\n",
       " 'bell1243': 'Bella Coola',\n",
       " 'nubi1253': 'Nubi',\n",
       " 'gugu1254': 'Gugubera',\n",
       " 'khow1242': 'Khowar',\n",
       " 'kala1397': 'Kalam',\n",
       " 'yuat1252': 'Yuat',\n",
       " 'ndyu1242': 'Aukan',\n",
       " 'fore1270': 'Fore',\n",
       " 'neng1239': 'Unknown language',\n",
       " 'luva1239': 'Luvale',\n",
       " 'pitc1234': 'Pitcairn-Norfolk',\n",
       " 'pare1266': 'Gorum-Parenga',\n",
       " 'utoa1244': 'Uto-Aztecan',\n",
       " 'oldi1245': 'Early Irish',\n",
       " 'serr1255': 'Serrano',\n",
       " 'miya1259': 'Miyako',\n",
       " 'maoo1244': 'Mao',\n",
       " 'sout2772': 'Southern Daly',\n",
       " 'logo1258': 'Logooli',\n",
       " 'cent2131': 'Central Tarahumara',\n",
       " 'plat1254': 'Plateau Malagasy',\n",
       " 'capa1241': 'Capanahua',\n",
       " 'hara1270': 'Harari-East Gurage',\n",
       " 'ngwo1241': 'Ngwo',\n",
       " 'ikkk1242': 'Ik',\n",
       " 'arab1267': 'Arabana',\n",
       " 'maya1287': 'Mayan',\n",
       " 'stin1234': 'Bahasa Indonesia',\n",
       " 'kana1288': 'Kanasi',\n",
       " 'trin1276': 'Trinidadian Creole English',\n",
       " 'tete1250': 'Tetela',\n",
       " 'siri1273': 'Sirionó',\n",
       " 'uppe1398': 'Upper Austria Bavarian',\n",
       " 'idom1241': 'Idoma',\n",
       " 'dama1270': 'Damara',\n",
       " 'khen1241': 'Khengkha',\n",
       " 'chol1282': 'Chol',\n",
       " 'cung1238': 'Chung',\n",
       " 'ivat1242': 'Itbayat',\n",
       " 'skol1241': 'Skolt Saami',\n",
       " 'lele1264': 'Lelemi',\n",
       " 'valm1241': 'Walman',\n",
       " 'cuev1239': 'Cuevas Mixtec',\n",
       " 'dehu1237': 'Dehu',\n",
       " 'bodo1267': 'Bodo Gadaba',\n",
       " 'mikm1235': \"Mi'kmaq\",\n",
       " 'bong1285': 'Bongo',\n",
       " 'koka1244': 'Kokata',\n",
       " 'dale1238': 'Dalecarlian',\n",
       " 'aona1235': 'Ao Naga',\n",
       " 'barg1250': 'Barguzin',\n",
       " 'gela1263': 'Gela',\n",
       " 'wann1242': 'Wan',\n",
       " 'thao1240': 'Thao',\n",
       " 'oldp1254': 'Old Persian (ca. 600-400 B.C.)',\n",
       " 'tach1250': 'Tachelhit',\n",
       " 'guri1247': 'Gurindji',\n",
       " 'mala1533': 'Malacca-Batavia Portuguese Creole',\n",
       " 'sout2649': 'Southern Pashto',\n",
       " 'czec1258': 'Czech',\n",
       " 'iroq1247': 'Iroquoian',\n",
       " 'maaa1253': 'Maa',\n",
       " 'chad1249': 'Chadian Arabic',\n",
       " 'bili1260': 'Bilin',\n",
       " 'beng1286': 'Beng',\n",
       " 'osse1245': 'Ossetic',\n",
       " 'copa1237': 'Copala Triqui',\n",
       " 'desa1247': 'Desano',\n",
       " 'tiri1258': 'Tiri-Mea',\n",
       " 'nama1265': 'Nama',\n",
       " 'jaru1257': 'Jaruára',\n",
       " 'beta1252': 'Betawi',\n",
       " 'cayu1261': 'Cayuga',\n",
       " 'stra1246': 'Straits Salish',\n",
       " 'nisg1240': \"Nisga'a\",\n",
       " 'maib1239': 'Maybrat-Karon',\n",
       " 'fern1234': 'Pichi',\n",
       " 'yapu1240': 'Yeri',\n",
       " 'nucl1417': 'Igbo',\n",
       " 'pera1256': 'Peranakan Indonesian',\n",
       " 'clas1258': 'Classical Sanskrit',\n",
       " 'moki1238': 'Mokilese',\n",
       " 'ikal1242': 'Ikalanga',\n",
       " 'ashe1272': 'Ashéninka Perené',\n",
       " 'taro1263': 'Tarok',\n",
       " 'pnar1238': 'Pnar',\n",
       " 'agut1237': 'Agutaynen',\n",
       " 'mali1279': 'Malila',\n",
       " 'yona1241': 'Yonaguni',\n",
       " 'hait1244': 'Haitian',\n",
       " 'mali1284': 'Mali',\n",
       " 'baou1238': 'Baoulé',\n",
       " 'hixk1239': 'Hixkaryána',\n",
       " 'tibe1276': 'Middle Old Tibetan',\n",
       " 'tuka1247': 'Tukang Besi',\n",
       " 'ngan1291': 'Nganasan',\n",
       " 'benc1235': 'Bench',\n",
       " 'gabo1234': 'Gabogbo',\n",
       " 'zaba1237': 'Zabana',\n",
       " 'baha1260': 'Bahamas Creole English',\n",
       " 'icel1247': 'Icelandic',\n",
       " 'sout2959': 'South Slavey',\n",
       " 'mong1329': 'Mongolic',\n",
       " 'guan1269': 'Kotiria',\n",
       " 'wola1242': 'Wolaytta',\n",
       " 'sout2985': 'Southern Sierra Miwok',\n",
       " 'norw1258': 'Norwegian',\n",
       " 'imon1245': 'Imonda',\n",
       " 'tinp1237': 'Tinputz',\n",
       " 'vinc1243': 'Vincentian Creole English',\n",
       " 'norw1259': 'Norwegian Bokmål',\n",
       " 'tama1336': 'Tamagario',\n",
       " 'midd1351': 'Middle Mongol',\n",
       " 'gamo1243': 'Gamo',\n",
       " 'suri1272': 'Ndyuka',\n",
       " 'oroc1248': 'Oroch',\n",
       " 'park1239': 'Parkwa',\n",
       " 'bosn1245': 'Bosnian Standard',\n",
       " 'papu1250': 'Papuan Malay',\n",
       " 'huzh1238': 'Mongghul',\n",
       " 'sout2940': 'South Muyu',\n",
       " 'kohi1248': 'Kohistani Shina',\n",
       " 'suya1243': 'Suyá',\n",
       " 'scot1245': 'Scottish Gaelic',\n",
       " 'egyp1253': 'Egyptian Arabic',\n",
       " 'kirg1245': 'Kirghiz',\n",
       " 'sout2739': 'Southern Tujia',\n",
       " 'cent1989': 'Central Khmer',\n",
       " 'slov1269': 'Slovak',\n",
       " 'nhan1238': 'Nhanda',\n",
       " 'huic1243': 'Huichol',\n",
       " 'epen1239': 'Epena',\n",
       " 'namb1299': 'Nambiquaran',\n",
       " 'sout2969': 'Southern Paiute',\n",
       " 'kham1286': 'Kham',\n",
       " 'tuyu1244': 'Tuyuca',\n",
       " 'mara1378': 'Marathi',\n",
       " 'baur1253': 'Baure',\n",
       " 'kima1244': 'Kimaragang',\n",
       " 'gunw1252': 'Bininj Kun-Wok',\n",
       " 'tani1257': 'Tanimuca-Retuarã',\n",
       " 'seek1238': 'Seeku',\n",
       " 'olde1238': 'Old English (ca. 450-1100)',\n",
       " 'kako1242': 'Kako',\n",
       " 'ukra1253': 'Ukrainian',\n",
       " 'nugu1241': 'Nugunu (Australia)',\n",
       " 'nung1290': 'Wubuy',\n",
       " 'akaa1242': 'Aka',\n",
       " 'djam1256': 'Djambarrpuyngu',\n",
       " 'jurc1239': 'Jurchen',\n",
       " 'raja1256': 'Rajasthani',\n",
       " 'west2863': 'Western Frisian (Retired)',\n",
       " 'gbad1242': 'Gbadi',\n",
       " 'ulwa1239': 'Ulwa',\n",
       " 'sout2954': 'Southern Amami-Oshima',\n",
       " 'deni1241': 'Deni',\n",
       " 'huar1255': 'Huarijio',\n",
       " 'pedi1238': 'Pedi',\n",
       " 'suen1241': 'Suena',\n",
       " 'zand1248': 'Zande',\n",
       " 'ngar1284': 'Ngarinyin',\n",
       " 'west2594': 'Western Dani',\n",
       " 'kari1311': 'Karitiâna',\n",
       " 'mand1436': 'Mandinka',\n",
       " 'sene1264': 'Seneca',\n",
       " 'yuhu1238': 'Yuhup',\n",
       " 'mwan1247': 'Mwani',\n",
       " 'timb1251': 'Timbe',\n",
       " 'lukp1238': 'Lukpa',\n",
       " 'toke1240': 'Tokelau',\n",
       " 'moks1248': 'Moksha',\n",
       " 'xhos1239': 'Xhosa',\n",
       " 'anci1242': 'Ionic-Attic Ancient Greek',\n",
       " 'voro1241': 'Võro-Mulgi-Tartu',\n",
       " 'wand1278': 'Wandala',\n",
       " 'hawa1245': 'Hawaiian',\n",
       " 'dadi1249': 'Dadiya',\n",
       " 'cata1241': 'Catalan Sign Language',\n",
       " 'kaby1243': 'Kabyle',\n",
       " 'hali1245': 'Coastal Marind',\n",
       " 'buwa1243': 'Buwal',\n",
       " 'domi1242': 'Dominican Spanish',\n",
       " 'ngem1255': 'Ngemba',\n",
       " 'akha1245': 'Akha',\n",
       " 'yoyy1238': 'Yoy',\n",
       " 'tari1263': 'Tarifiyt-Beni-Iznasen-Eastern Middle Atlas Berber',\n",
       " 'tosk1239': 'Northern Tosk Albanian',\n",
       " 'juti1236': 'Jutish',\n",
       " 'noot1239': 'Nootka',\n",
       " 'wasc1239': 'Upper Chinook',\n",
       " 'kama1351': 'Kamas-Koibal',\n",
       " 'nige1253': 'Hausa States Fulfulde',\n",
       " 'apur1254': 'Apurinã',\n",
       " 'sang1328': 'Sango',\n",
       " 'mosi1247': 'Akie',\n",
       " 'dong1285': 'Dongxiang',\n",
       " 'viet1252': 'Vietnamese',\n",
       " 'yaku1245': 'Sakha',\n",
       " 'loui1240': 'Louisiana Creole French',\n",
       " 'voti1245': 'Votic',\n",
       " 'indo1316': 'Standard Indonesian',\n",
       " 'east2545': 'Eastern Pomo',\n",
       " 'waga1260': 'Wagaya',\n",
       " 'hida1246': 'Hidatsa',\n",
       " 'arbe1236': 'Arbëreshë Albanian',\n",
       " 'barb1265': 'Barbacoan',\n",
       " 'tern1247': 'Ternate',\n",
       " 'legb1242': 'Legbo',\n",
       " 'kron1241': 'Krongo',\n",
       " 'mari1440': 'Maricopa',\n",
       " 'fare1244': 'Vach-Vasjugan',\n",
       " 'tobe1252': 'Tobelo',\n",
       " 'elfd1234': 'Elfdalian',\n",
       " 'ling1263': 'Kinshasa Lingala',\n",
       " 'casu1237': 'Casuarina Coast Asmat',\n",
       " 'uruu1244': 'Uru',\n",
       " 'sanz1248': 'Sanzhi',\n",
       " 'indu1241': 'Indus Kohistani',\n",
       " 'vall1252': 'Valley Maidu',\n",
       " 'dalo1238': 'Daloa Bété',\n",
       " 'tana1290': 'Tanacross',\n",
       " 'macu1259': 'Macushi',\n",
       " 'kwaz1243': 'Kwaza',\n",
       " 'maru1252': 'Marúbo',\n",
       " 'tenn1246': 'Tennet',\n",
       " 'sars1236': 'Sarsi',\n",
       " 'kora1295': 'Korafe',\n",
       " 'kist1241': 'Kistane',\n",
       " 'toho1245': \"Tohono O'odham\",\n",
       " 'mart1255': 'Martuthunira',\n",
       " 'bolg1250': 'Bolgarian',\n",
       " 'guja1252': 'Gujarati',\n",
       " 'umbr1253': 'Umbrian',\n",
       " 'yang1286': 'Yang Zhuang',\n",
       " 'savo1255': 'Savosavo',\n",
       " 'lard1243': 'Lardil',\n",
       " 'assa1263': 'Assamese',\n",
       " 'gada1257': 'Ga-Dangme',\n",
       " 'piji1239': 'Pijin',\n",
       " 'germ1287': 'Germanic',\n",
       " 'oldd1237': 'Old Dutch-Old Frankish',\n",
       " 'nort2942': 'North Slavey',\n",
       " 'sing1262': 'Unknown language',\n",
       " None: 'Unknown language',\n",
       " 'guiq1238': 'Guiqiong',\n",
       " 'chag1247': 'Chagatai',\n",
       " 'reun1238': 'Réunion Creole French',\n",
       " 'stan1288': 'Spanish',\n",
       " 'stan1290': 'French',\n",
       " 'bare1276': 'Baré',\n",
       " 'sira1267': 'Sirayaic',\n",
       " 'cent2004': 'Central Bai',\n",
       " 'nort2907': 'Northern One',\n",
       " 'tuvi1240': 'Tuvinian',\n",
       " 'iowa1245': 'Iowa-Oto',\n",
       " 'urii1240': 'Uri',\n",
       " 'yaoo1241': 'Yao',\n",
       " 'bava1246': 'Bavarian',\n",
       " 'kosr1238': 'Kosraean',\n",
       " 'agua1253': 'Aguaruna',\n",
       " 'pass1249': 'Passamaquoddy',\n",
       " 'onoo1246': 'Ono',\n",
       " 'paez1247': 'Páez',\n",
       " 'russ1263': 'Russian',\n",
       " 'adio1239': 'Adioukrou',\n",
       " 'vlaa1240': 'Western Flemish',\n",
       " 'yuka1259': 'Yukaghir',\n",
       " 'filo1235': 'Filomeno Mata Totonac',\n",
       " 'makh1264': 'Makhuwa',\n",
       " 'dido1241': 'Tsez',\n",
       " 'kwam1252': 'Kwamera',\n",
       " 'lele1276': 'Lele (Chad)',\n",
       " 'indo1319': 'Indo-European',\n",
       " 'koma1264': 'Koman',\n",
       " 'taki1251': 'Takivatan',\n",
       " 'siks1238': 'Siksika',\n",
       " 'sier1250': 'Sierra de Juárez Zapotec',\n",
       " 'kusu1250': 'Kusunda',\n",
       " 'pich1237': 'Pichis Ashéninka',\n",
       " 'arch1246': 'Archaic Norrlandic',\n",
       " 'kula1277': 'Kulango',\n",
       " 'logu1236': 'Logudorese Sardinian',\n",
       " 'curr1243': 'Curripaco',\n",
       " 'alor1252': 'Alor Malay',\n",
       " 'khoe1241': 'Khoe',\n",
       " 'izon1238': 'Izon',\n",
       " 'ying1247': 'Yinggarda',\n",
       " 'chec1245': 'Chechen',\n",
       " 'wapp1239': 'Wappo',\n",
       " 'khmu1256': 'Khmu',\n",
       " 'tayo1238': 'Tayo',\n",
       " 'tusc1257': 'Tuscarora',\n",
       " 'chua1250': 'Chuave',\n",
       " 'nafa1256': 'Nafara',\n",
       " 'maon1238': 'Mao Naga',\n",
       " 'kara1465': 'Karachay-Balkar',\n",
       " 'pite1240': 'Pite Saami',\n",
       " 'east2303': 'Archaic Finnish Swedish',\n",
       " 'nabl1238': 'Jerusalem Domari',\n",
       " 'lowg1239': 'Low German',\n",
       " 'kott1239': 'Kott-Assan',\n",
       " 'kala1373': 'Gawri',\n",
       " 'dame1241': 'Dameli',\n",
       " 'tewa1260': 'Rio Grande Tewa',\n",
       " 'koro1298': 'Koromfé',\n",
       " 'nung1283': 'Nung (Viet Nam)',\n",
       " 'naas1242': 'Naasioi',\n",
       " 'bali1278': 'Balinese',\n",
       " 'numi1242': 'Numic',\n",
       " 'anyi1245': 'Anyin',\n",
       " 'vata1239': 'Vata',\n",
       " 'aika1237': 'Aikanã',\n",
       " 'mode1257': 'Modern Dutch',\n",
       " 'chip1241': 'Chippewa',\n",
       " 'sahu1245': 'Sahu',\n",
       " 'nath1238': 'Nathembo',\n",
       " 'chic1272': 'Chichimeca-Jonaz',\n",
       " 'zoro1242': 'Zoroastrian Yazdi',\n",
       " 'roma1327': 'Romanian',\n",
       " 'berb1259': 'Berbice Creole Dutch',\n",
       " 'hupd1244': 'Hup',\n",
       " 'sauk1252': 'Ma Manda',\n",
       " 'idak1244': 'Idakho',\n",
       " 'bora1262': 'Boran',\n",
       " 'esee1248': 'Ese Ejja',\n",
       " 'dato1239': 'Barabayiiga-Gisamjanga',\n",
       " 'nort2961': 'Northwestern Ojibwa',\n",
       " 'nuer1246': 'Nuer',\n",
       " 'kory1246': 'Koryak',\n",
       " 'kair1263': 'Kairiru',\n",
       " 'nyan1307': 'Nyankole',\n",
       " 'fumm1238': 'Fum',\n",
       " 'soch1239': 'Sochiapam Chinantec',\n",
       " 'qanj1241': \"Q'anjob'al\",\n",
       " 'tata1255': 'Tatar',\n",
       " 'nupe1254': 'Nupe-Nupe-Tako',\n",
       " 'afar1241': 'Afar',\n",
       " 'kore1280': 'Korean',\n",
       " 'sant1451': 'Santa María Quiegolani Zapotec',\n",
       " 'akoo1248': 'Akoose',\n",
       " 'poto1254': 'Potou-Tano',\n",
       " 'basq1249': 'Navarro-Labourdin Basque',\n",
       " 'tauy1241': 'Tauya',\n",
       " 'fore1265': 'Forest Enets',\n",
       " 'head1238': 'Nungon',\n",
       " 'diml1238': 'Dimli',\n",
       " 'kiny1244': 'Kinyarwanda',\n",
       " 'west2354': 'Western Frisian',\n",
       " 'sara1326': 'Sarangani Blaan',\n",
       " 'goli1247': 'Golin',\n",
       " 'khez1235': 'Khezha Naga',\n",
       " 'mode1248': 'Modern Greek',\n",
       " 'amar1273': 'Amarasi',\n",
       " 'awyi1241': 'Awyi',\n",
       " 'kani1286': 'Kanite',\n",
       " 'yagu1244': 'Yagua',\n",
       " 'braz1246': 'Brazilian Portuguese',\n",
       " 'east2426': 'Eastern Maninkakan',\n",
       " 'liby1240': 'Libyan Arabic',\n",
       " 'nucl1622': 'Marind',\n",
       " 'east1436': 'Eastern Pahari',\n",
       " 'darg1241': 'North-Central Dargwa',\n",
       " 'uppe1395': 'Upper Sorbian',\n",
       " 'cent2138': 'Central Pomo',\n",
       " 'wara1294': 'Anta-Komnzo-Wára-Wérè-Kémä',\n",
       " 'samo1305': 'Samoan',\n",
       " 'olds1252': 'Old Swedish',\n",
       " 'tsou1248': 'Tsou',\n",
       " 'kalm1243': 'Oirad-Kalmyk-Darkhat',\n",
       " 'tune1241': 'Tunen (Retired)',\n",
       " 'dung1253': 'Dungan',\n",
       " 'aran1263': 'Upper Arrernte',\n",
       " 'rama1270': 'Rama',\n",
       " 'haid1248': 'Haida',\n",
       " 'nucl1696': 'Tangale',\n",
       " 'port1283': 'Portuguese',\n",
       " 'kadi1248': 'Kadiwéu',\n",
       " 'abar1238': 'Mungbam',\n",
       " 'croa1245': 'Croatian Standard',\n",
       " 'yiwo1237': 'Yiwom',\n",
       " 'hehe1240': 'Hehe',\n",
       " 'murl1244': 'Murle',\n",
       " 'yugh1239': 'Yugh',\n",
       " 'phal1254': 'Palula',\n",
       " 'maja1242': 'Majang',\n",
       " 'eder1237': 'Edera Awyu',\n",
       " 'loth1237': 'Lotha Naga',\n",
       " 'lamm1241': 'Western Pantar',\n",
       " 'sout3269': 'South Baffin Inuktitut',\n",
       " 'tali1258': 'Talinga-Bwisi',\n",
       " 'dier1241': 'Dieri',\n",
       " 'akka1240': 'Akkadian',\n",
       " 'zagh1240': 'Beria',\n",
       " 'nucl1328': 'Wambaya',\n",
       " 'cash1251': 'Cashibo-Cacataibo',\n",
       " 'amis1246': 'Amis',\n",
       " 'belh1239': 'Belhariya',\n",
       " 'lavu1241': 'Lavukaleve',\n",
       " 'lule1254': 'Lule Saami',\n",
       " 'latv1249': 'Latvian',\n",
       " 'ngun1272': 'Ngungwel',\n",
       " 'bret1244': 'Breton',\n",
       " 'bori1243': 'Bori-Karko',\n",
       " 'kenu1236': 'Kenuzi-Dongola',\n",
       " 'papi1253': 'Papiamento',\n",
       " 'east2335': 'Eastern Karaim',\n",
       " 'safa1245': 'Safaitic',\n",
       " 'cupe1243': 'Cupeño',\n",
       " 'limb1268': 'Limbum',\n",
       " 'kach1280': 'Southern Jinghpaw',\n",
       " 'tawa1275': 'Tawala',\n",
       " 'oldc1244': 'Old Chinese',\n",
       " 'goon1238': 'Gooniyandi',\n",
       " 'taca1257': 'Tacahua-Yolotepec Mixtec',\n",
       " 'mind1253': 'Min Dong Chinese',\n",
       " 'stan1293': 'English',\n",
       " 'jeri1242': 'Jeli',\n",
       " 'dhim1246': 'Dhimal',\n",
       " 'nort3160': 'North Germanic',\n",
       " 'abaz1241': 'Abaza',\n",
       " 'kwai1243': 'Kwaio',\n",
       " 'chat1268': 'Chatino',\n",
       " 'coas1300': 'Coast Tsimshian',\n",
       " 'cent2117': 'Central Asmat',\n",
       " 'germ1281': 'German Sign Language',\n",
       " 'awap1236': 'Awa (Papua New Guinea)',\n",
       " 'isir1237': 'Isirawa',\n",
       " 'tago1246': 'Tagoi',\n",
       " 'sahi1241': 'Sahidic',\n",
       " 'mori1278': 'Morisyen',\n",
       " 'bini1246': 'Bini',\n",
       " 'sala1264': 'Salar',\n",
       " 'nayi1242': 'Nayinic',\n",
       " 'kayt1238': 'Kaytetye',\n",
       " 'kamo1255': 'Kamoro',\n",
       " 'suru1262': 'Suruí',\n",
       " 'bari1286': 'Bariai',\n",
       " 'fant1241': 'Fante',\n",
       " 'suts1235': 'Sutsilvan',\n",
       " 'lama1288': 'Lamang',\n",
       " 'nede1245': 'Nedebang',\n",
       " 'marw1260': 'Marwari (India)',\n",
       " 'guad1242': 'Guadeloupe-Martinique Creole French',\n",
       " 'hdii1240': 'Hdi',\n",
       " 'nupo1239': 'Nupoid',\n",
       " 'lari1255': 'Larike-Wakasihu',\n",
       " 'khva1239': 'Khwarshi-Inkhoqwari',\n",
       " 'bisl1239': 'Bislama',\n",
       " 'kpel1252': 'Kpelle',\n",
       " 'java1254': 'Javanese',\n",
       " 'noon1242': 'Noon',\n",
       " 'lamu1253': 'Lamunkhin',\n",
       " 'aime1238': 'Aimele',\n",
       " 'tibe1272': 'Tibetan',\n",
       " 'amha1245': 'Amharic',\n",
       " 'gasc1241': 'Gascon (Retired)',\n",
       " 'cham1318': 'Chamicuro',\n",
       " 'pero1241': 'Pero',\n",
       " 'humb1243': 'Humburi Senni Songhay',\n",
       " 'ajie1238': 'Ajië',\n",
       " 'weee1241': 'We',\n",
       " 'nucl1310': 'Burmese',\n",
       " 'awee1242': 'Aweer',\n",
       " 'mait1250': 'Maithili',\n",
       " 'wano1243': 'Wano',\n",
       " 'east2443': 'East Ambae',\n",
       " 'wels1246': 'Welsh Romani',\n",
       " 'aram1259': 'Aramaic',\n",
       " 'fasu1242': 'Fasu',\n",
       " 'ilit1241': 'Ili Turki',\n",
       " 'yank1247': 'Yankunytjatjara',\n",
       " 'utes1238': 'Ute-Southern Paiute',\n",
       " 'dani1285': 'Danish',\n",
       " 'grea1276': 'Greater Quichean',\n",
       " 'norf1243': 'Unknown language',\n",
       " 'tetu1246': 'Tetun Dili',\n",
       " 'erit1239': 'Eritai',\n",
       " 'kuma1273': 'Kumaoni',\n",
       " 'buli1254': 'Buli (Ghana)',\n",
       " 'hopi1249': 'Hopi',\n",
       " 'astu1246': 'Asturian',\n",
       " 'beng1280': 'Bengali',\n",
       " 'gunn1250': 'Gun',\n",
       " 'gull1241': 'Sea Island Creole English',\n",
       " 'lend1245': 'Lendu',\n",
       " 'yaul1241': 'Ulwa (Papua New Guinea)',\n",
       " 'vame1236': 'Vame',\n",
       " 'gito1238': 'Gitonga',\n",
       " 'nucl1347': 'Wolof',\n",
       " 'amel1241': 'Amele',\n",
       " 'nyul1247': 'Nyulnyul',\n",
       " 'poli1260': 'Polish',\n",
       " 'guro1248': 'Guro',\n",
       " 'alut1245': 'Alutor',\n",
       " 'ngal1292': 'Ngalkbun',\n",
       " 'yuro1248': 'Yurok',\n",
       " 'nobi1240': 'Nobiin',\n",
       " 'beli1259': 'Unknown language',\n",
       " 'siyi1240': 'Sizang Chin',\n",
       " 'dual1243': 'Duala',\n",
       " 'rhin1244': 'Rhenish Franconian',\n",
       " 'chip1262': 'Chipaya',\n",
       " 'thom1243': 'Thompson',\n",
       " 'guar1293': 'Baniva de Maroa',\n",
       " 'sibe1252': 'Sibe',\n",
       " 'juho1239': 'South-Eastern Ju',\n",
       " 'texi1237': 'Texistepec Popoluca',\n",
       " 'dutc1256': 'Dutch',\n",
       " 'sout3261': 'Southwestern Dargwa',\n",
       " 'kelo1247': 'Klon',\n",
       " 'taji1245': 'Tajik',\n",
       " 'kala1399': 'Kalaallisut',\n",
       " 'waiw1244': 'Waiwai',\n",
       " 'daga1275': 'Daga',\n",
       " 'maun1240': 'Mawng',\n",
       " 'chir1286': 'Chiripá',\n",
       " 'surs1245': 'Sursilvan-Oberland',\n",
       " 'hato1238': 'Hatoma',\n",
       " 'gida1247': 'Gidar',\n",
       " 'nort2980': 'North Junín Quechua',\n",
       " 'yany1243': 'Yanyuwa',\n",
       " 'mach1267': 'Machiguenga',\n",
       " 'tepe1278': 'Tepecano',\n",
       " 'grus1239': 'Grusi',\n",
       " 'nucl1630': 'Barai',\n",
       " 'tami1289': 'Tamil',\n",
       " 'utee1244': 'Ute',\n",
       " 'umat1237': 'Umatilla',\n",
       " 'cham1312': 'Chamorro',\n",
       " 'coyu1235': 'Coyutla Totonac',\n",
       " 'hitt1242': 'Hittite',\n",
       " 'mege1234': 'Megeb',\n",
       " 'anta1254': 'Anta',\n",
       " 'ango1258': 'Angolar',\n",
       " 'fana1235': 'Fanagalo',\n",
       " 'pash1269': 'Pashto',\n",
       " 'kich1262': \"K'iche'\",\n",
       " 'ende1246': 'Ende',\n",
       " 'yima1243': 'Yimas',\n",
       " 'buli1256': 'Buli',\n",
       " 'siro1249': 'Siroi',\n",
       " 'west2420': 'Western Parbate Kham',\n",
       " 'kham1281': 'Khamnigan Mongol',\n",
       " 'sout2991': 'South Bolivian Quechua',\n",
       " 'udii1243': 'Udi',\n",
       " 'futu1245': 'Futuna-Aniwa',\n",
       " 'argo1244': 'Argobba',\n",
       " 'cant1236': 'Cantonese',\n",
       " 'iatm1242': 'Iatmul',\n",
       " 'faro1244': 'Faroese',\n",
       " 'suki1245': 'Suki',\n",
       " 'huam1248': 'Huamalíes-Dos de Mayo Huánuco Quechua',\n",
       " 'loni1238': 'Loniu',\n",
       " 'bash1264': 'Bashkir',\n",
       " 'chag1248': 'Kilimanjaro Bantu',\n",
       " 'nyan1308': 'Nyanja',\n",
       " 'kupi1238': 'Kupia',\n",
       " 'yala1262': 'Yalarnnga',\n",
       " 'mara1404': 'Maranao',\n",
       " 'orok1265': 'Orok',\n",
       " 'luba1252': 'Luba',\n",
       " 'awji1241': 'Awjilah',\n",
       " 'gbee1241': 'Gbe',\n",
       " 'sand1273': 'Sandawe',\n",
       " 'blag1240': 'Blagar',\n",
       " 'nija1242': 'Nijadali',\n",
       " 'ewon1239': 'Ewondo',\n",
       " 'puyu1239': 'Puyuma',\n",
       " 'medi1245': 'Media Lengua',\n",
       " 'tief1242': 'Tiefo-Daramandugu',\n",
       " 'dhar1247': 'Dhargari',\n",
       " 'tupi1273': 'Tupinambá',\n",
       " 'aust1307': 'Austronesian',\n",
       " 'dori1248': 'Doric',\n",
       " 'nilo1247': 'Nilotic',\n",
       " 'dari1249': 'Dari',\n",
       " 'siva1239': 'Sivandi',\n",
       " 'saam1281': 'Saami',\n",
       " 'moss1236': 'Mossi',\n",
       " 'neap1235': 'Continental Southern Italian',\n",
       " 'mati1253': 'Matipuhy',\n",
       " 'kwak1269': \"Kwak'wala\",\n",
       " 'kild1236': 'Kildin Saami',\n",
       " 'lezg1247': 'Lezgian',\n",
       " 'dobo1244': 'Dobo Malay',\n",
       " 'okan1243': 'Okanagan',\n",
       " 'donn1239': 'Donno So Dogon',\n",
       " 'ewee1241': 'Ewe',\n",
       " 'balt1257': 'Baltic Romani',\n",
       " 'kuma1276': 'Nêlêmwa-Nixumwak',\n",
       " 'amdo1237': 'Amdo Tibetan',\n",
       " 'yoru1245': 'Yoruba',\n",
       " 'sant1410': 'Santali',\n",
       " 'misk1235': 'Mískito',\n",
       " 'klam1254': 'Klamath-Modoc',\n",
       " 'orsa1234': 'Orsamål',\n",
       " 'djin1251': 'Jingulu',\n",
       " 'ndum1239': 'Ndumu',\n",
       " 'lowe1385': 'Lower Sorbian',\n",
       " 'ingu1240': 'Ingush',\n",
       " 'nivk1234': 'Nivkh',\n",
       " 'kips1239': 'Kipsigis',\n",
       " 'bari1284': 'Bari',\n",
       " 'cora1259': 'Corachol',\n",
       " 'mwag1236': 'Mwaghavul',\n",
       " 'nort2686': 'Northern Altai',\n",
       " 'tzel1255': 'Tzeltal, Bachajón',\n",
       " 'tama1365': 'Tamasheq',\n",
       " 'kans1243': 'Kansa',\n",
       " 'kute1249': 'Kutenai',\n",
       " 'kore1284': 'Koreanic',\n",
       " 'kera1258': 'Keram',\n",
       " 'zays1236': 'Zayse',\n",
       " 'kang1281': 'Kangjia',\n",
       " 'lobo1240': 'Lobo',\n",
       " 'fonn1241': 'Fon',\n",
       " 'bora1263': 'Bora',\n",
       " 'mber1257': 'Mbere-Mbamba',\n",
       " 'basq1248': 'Basque',\n",
       " 'afri1274': 'Afrikaans',\n",
       " 'gavi1246': 'Gavião Do Jiparaná',\n",
       " 'kaya1319': 'Kayardild',\n",
       " 'drun1238': 'Drung',\n",
       " 'ngan1295': 'Ngandi',\n",
       " 'kxoe1243': 'Kxoe',\n",
       " 'tlin1245': 'Tlingit',\n",
       " 'bima1247': 'Bima',\n",
       " 'pari1256': 'Päri',\n",
       " 'midd1321': 'Middle Dutch',\n",
       " 'natc1249': 'Natchez',\n",
       " 'woii1237': 'Woi',\n",
       " 'chin1253': 'Chinese Pidgin English',\n",
       " 'asha1243': 'Asháninka',\n",
       " 'inab1237': 'Inabaknon',\n",
       " 'wayu1241': 'Wayu',\n",
       " 'pado1242': 'Padoe',\n",
       " 'west2391': 'West Vod',\n",
       " 'sout2994': 'Southern Nambikuára',\n",
       " 'tuba1278': 'Tübatulabal',\n",
       " 'buru1296': 'Burushaski',\n",
       " 'bela1258': 'Belanda',\n",
       " 'lopi1242': 'Lopit',\n",
       " 'wamb1259': 'Wambon',\n",
       " 'nort2626': 'Northern Frisian',\n",
       " 'mala1464': 'Malayalam',\n",
       " 'some1244': 'Some',\n",
       " 'even1259': 'Evenki',\n",
       " 'oksa1245': 'Oksapmin',\n",
       " 'slav1255': 'Slavic',\n",
       " 'koda1254': 'Kodaku',\n",
       " 'bili1250': 'Bilinarra',\n",
       " 'coos1249': 'Hanis',\n",
       " 'sout2750': 'Southern Yukaghir',\n",
       " 'rund1242': 'Rundi',\n",
       " 'amba1269': 'Ambakich',\n",
       " 'west2618': 'Western Canadian Inuktitut',\n",
       " 'midd1343': 'Middle High German',\n",
       " 'leal1235': 'Lealao Chinantec',\n",
       " 'bamu1253': 'Bamun',\n",
       " 'bezh1248': 'Bezhta',\n",
       " 'thak1245': 'Thakali',\n",
       " 'sawe1240': 'Saweru',\n",
       " 'nucl1634': 'Skou',\n",
       " 'sund1252': 'Sundanese',\n",
       " 'jiar1240': 'Northern Gyalrong',\n",
       " 'koyr1242': 'Koyraboro Senni Songhai',\n",
       " 'yaww1238': 'Yaw',\n",
       " 'pipi1250': 'Pipil',\n",
       " 'deor1238': 'Deori',\n",
       " 'paam1238': 'Paama',\n",
       " 'gulf1241': 'Gulf Arabic',\n",
       " 'warl1255': 'Warlmanpa',\n",
       " 'saka1298': 'Saka',\n",
       " 'sela1260': 'Selayar',\n",
       " 'hiri1237': 'Hiri Motu',\n",
       " 'wamb1258': 'Wambayan',\n",
       " 'nuuu1241': 'Ghaap-Kalahari',\n",
       " 'gbay1288': 'Kresh-Woro',\n",
       " 'iris1253': 'Irish',\n",
       " 'ruka1240': 'Rukai',\n",
       " 'enga1252': 'Enga',\n",
       " 'arch1244': 'Archi',\n",
       " 'sout3123': 'South Levantine Arabic',\n",
       " 'hual1241': 'Huallaga Huánuco Quechua',\n",
       " 'sout2789': 'Central Dagaare',\n",
       " 'mang1401': 'Mangareva',\n",
       " 'kurd1259': 'Kurdish',\n",
       " 'urdu1245': 'Urdu',\n",
       " 'jowu1238': 'Jowulu',\n",
       " 'halk1245': 'Halkomelem',\n",
       " 'lowe1415': 'Lower Grand Valley Dani',\n",
       " 'dima1251': 'Dimasa',\n",
       " 'kuku1273': 'Kuku-Yalanji',\n",
       " 'west2386': 'Western Panjabi',\n",
       " 'nort3264': 'Northern Khanty',\n",
       " 'hmon1264': 'Hmong Njua',\n",
       " 'lako1244': 'Lakota Dida',\n",
       " 'genn1243': 'Gen',\n",
       " 'maee1241': 'Tirax',\n",
       " 'amto1250': 'Amto',\n",
       " 'capp1239': 'Cappadocian Greek',\n",
       " 'vute1244': 'Vute',\n",
       " 'khan1273': 'Kazym-Berezover-Suryskarer Khanty',\n",
       " 'mina1273': 'Mina',\n",
       " 'suba1252': 'Suba-Simbiti',\n",
       " 'azoy1236': \"Azoyú Me'phaa\",\n",
       " 'bunu1267': 'Bunun',\n",
       " 'yape1248': 'Yapese',\n",
       " 'nort2627': 'Eastern Low German',\n",
       " 'nucl1460': 'Madurese',\n",
       " 'nise1244': 'Nisenan',\n",
       " 'mian1256': 'Mian',\n",
       " 'lowl1265': 'Western Tarahumara',\n",
       " 'aros1241': 'Arosi',\n",
       " 'sogd1245': 'Sogdian',\n",
       " 'cang1245': 'Cangin',\n",
       " 'dand1239': 'Danda',\n",
       " 'isuf1235': 'Isu (Fako Division)',\n",
       " 'chip1261': 'Chipewyan',\n",
       " 'pahl1241': 'Pahlavi',\n",
       " 'vera1241': \"Vera'a\",\n",
       " 'ngka1235': 'Ngkontar Ngkolmpu',\n",
       " 'dogr1252': 'Dogrib',\n",
       " 'kula1284': 'Kulawi',\n",
       " 'here1253': 'Herero',\n",
       " 'olde1242': 'Old Egyptian',\n",
       " 'kabi1260': 'Kabikabi',\n",
       " 'onon1246': 'Onondaga',\n",
       " 'thul1246': 'Thulung',\n",
       " 'mull1237': 'Mullukmulluk',\n",
       " 'umbu1257': 'Umbundu',\n",
       " 'iaai1238': 'Iaai',\n",
       " 'gang1272': 'Gangou',\n",
       " 'nenn1238': 'Nen',\n",
       " 'kols1241': 'Kölsch',\n",
       " 'kway1241': 'Kwaya',\n",
       " 'khar1287': 'Kharia',\n",
       " 'goth1244': 'Gothic',\n",
       " 'tasa1240': 'Tasawaq',\n",
       " 'mixt1427': 'Mixtec',\n",
       " 'mezq1235': 'Mezquital Otomi',\n",
       " 'mand1478': 'Manda',\n",
       " 'kara1499': 'Kalamang',\n",
       " 'laca1243': 'Lacandon',\n",
       " 'usho1238': 'Ushojo',\n",
       " 'ofoo1242': 'Ofo',\n",
       " ...}"
      ]
     },
     "execution_count": 2,
     "metadata": {},
     "output_type": "execute_result"
    }
   ],
   "source": [
    "# Map glottocodes to languages\n",
    "\n",
    "from tqdm import tqdm\n",
    "from pyglottolog import Glottolog\n",
    "glottolog = Glottolog('../../glottolog')\n",
    "\n",
    "all_glottocodes = set(data['train'].unique('glottocode'))\n",
    "glottocode_mapping = dict()\n",
    "for code in tqdm(all_glottocodes):\n",
    "    languoid = glottolog.languoid(code) if code != '' and code is not None else None\n",
    "    glottocode_mapping[code] = languoid.name if languoid else 'Unknown language'\n",
    "\n",
    "glottocode_mapping"
   ]
  },
  {
   "cell_type": "code",
   "execution_count": 3,
   "id": "233a12bd",
   "metadata": {
    "ExecuteTime": {
     "end_time": "2023-12-01T23:31:29.900507Z",
     "start_time": "2023-12-01T23:31:10.599552Z"
    },
    "collapsed": false,
    "jupyter": {
     "outputs_hidden": false
    }
   },
   "outputs": [
    {
     "data": {
      "application/vnd.jupyter.widget-view+json": {
       "model_id": "53a85cd24363485c8cea64da7908950f",
       "version_major": 2,
       "version_minor": 0
      },
      "text/plain": [
       "Map:   0%|          | 0/451108 [00:00<?, ? examples/s]"
      ]
     },
     "metadata": {},
     "output_type": "display_data"
    }
   ],
   "source": [
    "def map_glottocodes(row):\n",
    "    row['language'] = glottocode_mapping[row['glottocode']]\n",
    "    row['metalang'] = glottocode_mapping[row['metalang_glottocode']]\n",
    "    if row['metalang'] == 'Unknown language':\n",
    "        row['metalang'] = ''\n",
    "    return row\n",
    "\n",
    "data = data.map(map_glottocodes)"
   ]
  },
  {
   "cell_type": "code",
   "execution_count": 4,
   "id": "2735354b",
   "metadata": {
    "ExecuteTime": {
     "end_time": "2023-12-01T23:32:22.454996Z",
     "start_time": "2023-12-01T23:32:22.452143Z"
    },
    "collapsed": false,
    "jupyter": {
     "outputs_hidden": false
    }
   },
   "outputs": [
    {
     "data": {
      "application/vnd.jupyter.widget-view+json": {
       "model_id": "0d2e5ff197dc4d0092f7b6d7ff70e01b",
       "version_major": 2,
       "version_minor": 0
      },
      "text/plain": [
       "Uploading the dataset shards:   0%|          | 0/1 [00:00<?, ?it/s]"
      ]
     },
     "metadata": {},
     "output_type": "display_data"
    },
    {
     "data": {
      "application/vnd.jupyter.widget-view+json": {
       "model_id": "d3194cebf43d4e1d9c91c8f812c2202d",
       "version_major": 2,
       "version_minor": 0
      },
      "text/plain": [
       "Creating parquet from Arrow format:   0%|          | 0/452 [00:00<?, ?ba/s]"
      ]
     },
     "metadata": {},
     "output_type": "display_data"
    },
    {
     "data": {
      "application/vnd.jupyter.widget-view+json": {
       "model_id": "222b7370270247ff8e3bcfaf6416e21c",
       "version_major": 2,
       "version_minor": 0
      },
      "text/plain": [
       "README.md:   0%|          | 0.00/558 [00:00<?, ?B/s]"
      ]
     },
     "metadata": {},
     "output_type": "display_data"
    }
   ],
   "source": [
    "data.push_to_hub('lecslab/glosslm')"
   ]
  },
  {
   "cell_type": "code",
   "execution_count": 5,
   "id": "0fb9acaf-c6ea-46da-90da-c26fbd507a4f",
   "metadata": {
    "ExecuteTime": {
     "end_time": "2023-12-01T23:32:57.536812Z",
     "start_time": "2023-12-01T23:32:56.545595Z"
    },
    "tags": []
   },
   "outputs": [
    {
     "data": {
      "text/plain": [
       "DatasetDict({\n",
       "    train: Dataset({\n",
       "        features: ['transcription', 'glosses', 'translation', 'glottocode', 'id', 'source', 'metalang_glottocode', 'is_segmented', 'language', 'metalang'],\n",
       "        num_rows: 418718\n",
       "    })\n",
       "    train_ID: Dataset({\n",
       "        features: ['transcription', 'glosses', 'translation', 'glottocode', 'id', 'source', 'metalang_glottocode', 'is_segmented', 'language', 'metalang'],\n",
       "        num_rows: 104928\n",
       "    })\n",
       "    eval_ID: Dataset({\n",
       "        features: ['transcription', 'glosses', 'translation', 'glottocode', 'id', 'source', 'metalang_glottocode', 'is_segmented', 'language', 'metalang'],\n",
       "        num_rows: 11138\n",
       "    })\n",
       "    test_ID: Dataset({\n",
       "        features: ['transcription', 'glosses', 'translation', 'glottocode', 'id', 'source', 'metalang_glottocode', 'is_segmented', 'language', 'metalang'],\n",
       "        num_rows: 11940\n",
       "    })\n",
       "    train_OOD: Dataset({\n",
       "        features: ['transcription', 'glosses', 'translation', 'glottocode', 'id', 'source', 'metalang_glottocode', 'is_segmented', 'language', 'metalang'],\n",
       "        num_rows: 7356\n",
       "    })\n",
       "    eval_OOD: Dataset({\n",
       "        features: ['transcription', 'glosses', 'translation', 'glottocode', 'id', 'source', 'metalang_glottocode', 'is_segmented', 'language', 'metalang'],\n",
       "        num_rows: 984\n",
       "    })\n",
       "    test_OOD: Dataset({\n",
       "        features: ['transcription', 'glosses', 'translation', 'glottocode', 'id', 'source', 'metalang_glottocode', 'is_segmented', 'language', 'metalang'],\n",
       "        num_rows: 972\n",
       "    })\n",
       "})"
      ]
     },
     "execution_count": 5,
     "metadata": {},
     "output_type": "execute_result"
    }
   ],
   "source": [
    "df = data['train'].to_pandas()\n",
    "\n",
    "in_dist = ['arap1274', 'uspa1245', 'dido1241']\n",
    "oo_dist = ['nyan1302', 'natu1246', 'lezg1247', 'gitx1241']\n",
    "\n",
    "mask_in_dist_train = (df['source'] == 'sigmorphon_st') & df['glottocode'].isin(in_dist) & (df['id'].str.contains('train'))\n",
    "mask_in_dist_eval = (df['source'] == 'sigmorphon_st') & df['glottocode'].isin(in_dist) & (df['id'].str.contains('dev'))\n",
    "mask_in_dist_test = (df['source'] == 'sigmorphon_st') & df['glottocode'].isin(in_dist) & (df['id'].str.contains('test'))\n",
    "\n",
    "mask_ood_dist_train = (df['glottocode'].isin(oo_dist) & ((df['id'].str.contains('train')) | (df['source'] != 'sigmorphon_st')))\n",
    "mask_ood_dist_eval = df['glottocode'].isin(oo_dist) & (df['id'].str.contains('dev'))\n",
    "mask_ood_dist_test = df['glottocode'].isin(oo_dist) & (df['id'].str.contains('test'))\n",
    "\n",
    "mask_other_train = ~(mask_in_dist_train | mask_in_dist_eval | mask_in_dist_test | mask_ood_dist_train | mask_ood_dist_eval | mask_ood_dist_test)\n",
    "\n",
    "split_dataset = datasets.DatasetDict()\n",
    "\n",
    "split_dataset['train']     = datasets.Dataset.from_pandas(df[mask_in_dist_train | mask_other_train])\n",
    "split_dataset['train_ID']  = datasets.Dataset.from_pandas(df[mask_in_dist_train])\n",
    "split_dataset['eval_ID']   = datasets.Dataset.from_pandas(df[mask_in_dist_eval])\n",
    "split_dataset['test_ID']   = datasets.Dataset.from_pandas(df[mask_in_dist_test])\n",
    "split_dataset['train_OOD'] = datasets.Dataset.from_pandas(df[mask_ood_dist_train])\n",
    "split_dataset['eval_OOD']  = datasets.Dataset.from_pandas(df[mask_ood_dist_eval])\n",
    "split_dataset['test_OOD']  = datasets.Dataset.from_pandas(df[mask_ood_dist_test])\n",
    "\n",
    "split_dataset = split_dataset.remove_columns(['__index_level_0__'])\n",
    "split_dataset"
   ]
  },
  {
   "cell_type": "code",
   "execution_count": 6,
   "id": "a13cfb1a-ae7b-4970-9870-8c2f369172d9",
   "metadata": {
    "ExecuteTime": {
     "end_time": "2023-12-01T23:33:21.903864Z",
     "start_time": "2023-12-01T23:33:06.762833Z"
    },
    "tags": []
   },
   "outputs": [
    {
     "data": {
      "application/vnd.jupyter.widget-view+json": {
       "model_id": "c5375b15d8c044cb95220c056e31c84f",
       "version_major": 2,
       "version_minor": 0
      },
      "text/plain": [
       "Uploading the dataset shards:   0%|          | 0/1 [00:00<?, ?it/s]"
      ]
     },
     "metadata": {},
     "output_type": "display_data"
    },
    {
     "data": {
      "application/vnd.jupyter.widget-view+json": {
       "model_id": "75852c68728f4d298b959634f53cf01a",
       "version_major": 2,
       "version_minor": 0
      },
      "text/plain": [
       "Creating parquet from Arrow format:   0%|          | 0/419 [00:00<?, ?ba/s]"
      ]
     },
     "metadata": {},
     "output_type": "display_data"
    },
    {
     "data": {
      "application/vnd.jupyter.widget-view+json": {
       "model_id": "4a46a17e17df41be8f58949156d6b6a2",
       "version_major": 2,
       "version_minor": 0
      },
      "text/plain": [
       "Uploading the dataset shards:   0%|          | 0/1 [00:00<?, ?it/s]"
      ]
     },
     "metadata": {},
     "output_type": "display_data"
    },
    {
     "data": {
      "application/vnd.jupyter.widget-view+json": {
       "model_id": "0821d8f689cd40619a45374336dedbae",
       "version_major": 2,
       "version_minor": 0
      },
      "text/plain": [
       "Creating parquet from Arrow format:   0%|          | 0/105 [00:00<?, ?ba/s]"
      ]
     },
     "metadata": {},
     "output_type": "display_data"
    },
    {
     "data": {
      "application/vnd.jupyter.widget-view+json": {
       "model_id": "db8f9d1411e0470a9b4fcd2f92debcae",
       "version_major": 2,
       "version_minor": 0
      },
      "text/plain": [
       "Uploading the dataset shards:   0%|          | 0/1 [00:00<?, ?it/s]"
      ]
     },
     "metadata": {},
     "output_type": "display_data"
    },
    {
     "data": {
      "application/vnd.jupyter.widget-view+json": {
       "model_id": "4654ed9716a84637849471166fa56a85",
       "version_major": 2,
       "version_minor": 0
      },
      "text/plain": [
       "Creating parquet from Arrow format:   0%|          | 0/12 [00:00<?, ?ba/s]"
      ]
     },
     "metadata": {},
     "output_type": "display_data"
    },
    {
     "data": {
      "application/vnd.jupyter.widget-view+json": {
       "model_id": "e7f996cf98c74d4d91f2e112d3edd8b8",
       "version_major": 2,
       "version_minor": 0
      },
      "text/plain": [
       "Uploading the dataset shards:   0%|          | 0/1 [00:00<?, ?it/s]"
      ]
     },
     "metadata": {},
     "output_type": "display_data"
    },
    {
     "data": {
      "application/vnd.jupyter.widget-view+json": {
       "model_id": "1043b8a46db4477c92e065c9747c07bf",
       "version_major": 2,
       "version_minor": 0
      },
      "text/plain": [
       "Creating parquet from Arrow format:   0%|          | 0/12 [00:00<?, ?ba/s]"
      ]
     },
     "metadata": {},
     "output_type": "display_data"
    },
    {
     "data": {
      "application/vnd.jupyter.widget-view+json": {
       "model_id": "7d5d0e834de94746b39497395908841d",
       "version_major": 2,
       "version_minor": 0
      },
      "text/plain": [
       "Uploading the dataset shards:   0%|          | 0/1 [00:00<?, ?it/s]"
      ]
     },
     "metadata": {},
     "output_type": "display_data"
    },
    {
     "data": {
      "application/vnd.jupyter.widget-view+json": {
       "model_id": "18a7d1846e6c4d60ad68a6ea2d84fc44",
       "version_major": 2,
       "version_minor": 0
      },
      "text/plain": [
       "Creating parquet from Arrow format:   0%|          | 0/8 [00:00<?, ?ba/s]"
      ]
     },
     "metadata": {},
     "output_type": "display_data"
    },
    {
     "data": {
      "application/vnd.jupyter.widget-view+json": {
       "model_id": "fc664a51107c483ba25deff14929751c",
       "version_major": 2,
       "version_minor": 0
      },
      "text/plain": [
       "Uploading the dataset shards:   0%|          | 0/1 [00:00<?, ?it/s]"
      ]
     },
     "metadata": {},
     "output_type": "display_data"
    },
    {
     "data": {
      "application/vnd.jupyter.widget-view+json": {
       "model_id": "35df3d6fc3b74251a99dd4a1448b9121",
       "version_major": 2,
       "version_minor": 0
      },
      "text/plain": [
       "Creating parquet from Arrow format:   0%|          | 0/1 [00:00<?, ?ba/s]"
      ]
     },
     "metadata": {},
     "output_type": "display_data"
    },
    {
     "data": {
      "application/vnd.jupyter.widget-view+json": {
       "model_id": "aef0635b050a44799bbb9543dbd9237d",
       "version_major": 2,
       "version_minor": 0
      },
      "text/plain": [
       "Uploading the dataset shards:   0%|          | 0/1 [00:00<?, ?it/s]"
      ]
     },
     "metadata": {},
     "output_type": "display_data"
    },
    {
     "data": {
      "application/vnd.jupyter.widget-view+json": {
       "model_id": "1b5cd4c08483477597223ab4036c0a6c",
       "version_major": 2,
       "version_minor": 0
      },
      "text/plain": [
       "Creating parquet from Arrow format:   0%|          | 0/1 [00:00<?, ?ba/s]"
      ]
     },
     "metadata": {},
     "output_type": "display_data"
    },
    {
     "data": {
      "application/vnd.jupyter.widget-view+json": {
       "model_id": "e6d40cd93d5a4f699f1af166e1f67d23",
       "version_major": 2,
       "version_minor": 0
      },
      "text/plain": [
       "README.md:   0%|          | 0.00/1.30k [00:00<?, ?B/s]"
      ]
     },
     "metadata": {},
     "output_type": "display_data"
    }
   ],
   "source": [
    "split_dataset.push_to_hub('lecslab/glosslm-split', commit_message='Create new splits')"
   ]
  },
  {
   "cell_type": "code",
   "execution_count": 7,
   "id": "44b9d550-f651-42c0-9a18-f3ccf8946254",
   "metadata": {
    "ExecuteTime": {
     "end_time": "2023-12-01T23:33:21.912182Z",
     "start_time": "2023-12-01T23:33:21.906373Z"
    },
    "tags": []
   },
   "outputs": [
    {
     "name": "stdout",
     "output_type": "stream",
     "text": [
      "Looks good :)\n"
     ]
    }
   ],
   "source": [
    "# Sanity check\n",
    "\n",
    "split_dataset_total_rows = sum(len(dataset) for dataset in split_dataset.values()) - len(split_dataset['train_ID'])\n",
    "\n",
    "if (split_dataset_total_rows != len(df)):\n",
    "    print(f\"Mismatch! {split_dataset_total_rows} in split and {len(df)} total\")\n",
    "else:\n",
    "    print(\"Looks good :)\")"
   ]
  },
  {
   "cell_type": "code",
   "execution_count": 4,
   "id": "628798a2-db69-47ee-8c80-25d066cd31fb",
   "metadata": {
    "ExecuteTime": {
     "end_time": "2024-01-21T21:26:17.321868Z",
     "start_time": "2024-01-21T21:26:15.818310Z"
    }
   },
   "outputs": [
    {
     "data": {
      "text/plain": [
       "{'ID': 'st_train_lezg1247_95',\n",
       " 'glottocode': 'lezg1247',\n",
       " 'transcription': 'са эрменидин кьилел хер хьанава .',\n",
       " 'glosses': 'one armenian-ERG-GEN head-INESS-SPSS wound happened-PERF .',\n",
       " 'translation': 'And an armenian guy was wounded in his head.',\n",
       " 'metalang_glottocode': 'stan1293',\n",
       " 'is_segmented': 'no',\n",
       " 'source': 'sigmorphon_st',\n",
       " 'language': 'Lezgian',\n",
       " 'metalang': 'English'}"
      ]
     },
     "execution_count": 4,
     "metadata": {},
     "output_type": "execute_result"
    }
   ],
   "source": [
    "import datasets\n",
    "data = datasets.load_dataset(\"lecslab/glosslm-split\")\n",
    "\n",
    "data['train_OOD'][200]"
   ]
  },
  {
   "cell_type": "code",
   "execution_count": 7,
   "id": "c6d7b3e9",
   "metadata": {
    "ExecuteTime": {
     "end_time": "2024-01-21T21:26:30.630240Z",
     "start_time": "2024-01-21T21:26:30.624554Z"
    },
    "collapsed": false,
    "jupyter": {
     "outputs_hidden": false
    }
   },
   "outputs": [
    {
     "data": {
      "text/plain": [
       "{'ID': 'st_train_natu1246_294',\n",
       " 'glottocode': 'natu1246',\n",
       " 'transcription': 'Mz nibrde sc tzwrkxtrpeng rlilrdr .',\n",
       " 'glosses': 'PREP back.part-3MINII PFV RL.3AUG-baptised-COS-3AUGIS MID-two-APPL-3AUGII .',\n",
       " 'translation': 'Afterward the two of them were baptised.',\n",
       " 'metalang_glottocode': 'stan1293',\n",
       " 'is_segmented': 'no',\n",
       " 'source': 'sigmorphon_st',\n",
       " 'language': 'Natügu',\n",
       " 'metalang': 'English'}"
      ]
     },
     "execution_count": 7,
     "metadata": {},
     "output_type": "execute_result"
    }
   ],
   "source": [
    "data['train_OOD'][2000]"
   ]
  },
  {
   "cell_type": "code",
   "execution_count": null,
   "id": "a479c49b",
   "metadata": {
    "collapsed": false,
    "jupyter": {
     "outputs_hidden": false
    }
   },
   "outputs": [],
   "source": []
  }
 ],
 "metadata": {
  "kernelspec": {
   "display_name": "Python 3 (ipykernel)",
   "language": "python",
   "name": "python3"
  },
  "language_info": {
   "codemirror_mode": {
    "name": "ipython",
    "version": 3
   },
   "file_extension": ".py",
   "mimetype": "text/x-python",
   "name": "python",
   "nbconvert_exporter": "python",
   "pygments_lexer": "ipython3",
   "version": "3.10.0"
  }
 },
 "nbformat": 4,
 "nbformat_minor": 5
}
